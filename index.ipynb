{
 "cells": [
  {
   "cell_type": "markdown",
   "metadata": {},
   "source": [
    "# ZILLOW HOUSING DATA TIME SERIES ANALYSIS"
   ]
  },
  {
   "cell_type": "markdown",
   "metadata": {},
   "source": [
    "## BUSINESS UNDERSTANDING "
   ]
  },
  {
   "cell_type": "markdown",
   "metadata": {},
   "source": [
    "### PROBLEM STATEMENT\n",
    "\n",
    "Real investment firms weigh on many factors when decided on which investment to make. These firms’ goals are to enhance their decision making processes. With historical real estate market data, the challenge is to leverage data science techniques to identify potential investment opportunities and helping the real estate firms in making informed investment decisions.\n",
    "\n",
    "### OBJECTIVES\n",
    "Main Objectives:\n",
    "* Identify the 5 best zip codes.\n",
    "\n",
    "Secondary Objectives:\n",
    "* Predict the prices of the best 5 zipcodes. "
   ]
  },
  {
   "cell_type": "code",
   "execution_count": 127,
   "metadata": {},
   "outputs": [],
   "source": [
    "## Importing the necessary Libraries\n",
    "import pandas as pd\n",
    "import matplotlib.pyplot as plt\n"
   ]
  },
  {
   "cell_type": "markdown",
   "metadata": {},
   "source": [
    "## DATA UNDERSTANDING"
   ]
  },
  {
   "cell_type": "markdown",
   "metadata": {},
   "source": [
    "#### Load the dataset"
   ]
  },
  {
   "cell_type": "markdown",
   "metadata": {},
   "source": [
    "This project uses data from ZIllow housing data,  found [here](https://www.zillow.com/research/data/)"
   ]
  },
  {
   "cell_type": "code",
   "execution_count": 26,
   "metadata": {},
   "outputs": [
    {
     "data": {
      "text/html": [
       "<div>\n",
       "<style scoped>\n",
       "    .dataframe tbody tr th:only-of-type {\n",
       "        vertical-align: middle;\n",
       "    }\n",
       "\n",
       "    .dataframe tbody tr th {\n",
       "        vertical-align: top;\n",
       "    }\n",
       "\n",
       "    .dataframe thead th {\n",
       "        text-align: right;\n",
       "    }\n",
       "</style>\n",
       "<table border=\"1\" class=\"dataframe\">\n",
       "  <thead>\n",
       "    <tr style=\"text-align: right;\">\n",
       "      <th></th>\n",
       "      <th>RegionID</th>\n",
       "      <th>RegionName</th>\n",
       "      <th>City</th>\n",
       "      <th>State</th>\n",
       "      <th>Metro</th>\n",
       "      <th>CountyName</th>\n",
       "      <th>SizeRank</th>\n",
       "      <th>1996-04</th>\n",
       "      <th>1996-05</th>\n",
       "      <th>1996-06</th>\n",
       "      <th>...</th>\n",
       "      <th>2017-07</th>\n",
       "      <th>2017-08</th>\n",
       "      <th>2017-09</th>\n",
       "      <th>2017-10</th>\n",
       "      <th>2017-11</th>\n",
       "      <th>2017-12</th>\n",
       "      <th>2018-01</th>\n",
       "      <th>2018-02</th>\n",
       "      <th>2018-03</th>\n",
       "      <th>2018-04</th>\n",
       "    </tr>\n",
       "  </thead>\n",
       "  <tbody>\n",
       "    <tr>\n",
       "      <th>0</th>\n",
       "      <td>84654</td>\n",
       "      <td>60657</td>\n",
       "      <td>Chicago</td>\n",
       "      <td>IL</td>\n",
       "      <td>Chicago</td>\n",
       "      <td>Cook</td>\n",
       "      <td>1</td>\n",
       "      <td>334200.0</td>\n",
       "      <td>335400.0</td>\n",
       "      <td>336500.0</td>\n",
       "      <td>...</td>\n",
       "      <td>1005500</td>\n",
       "      <td>1007500</td>\n",
       "      <td>1007800</td>\n",
       "      <td>1009600</td>\n",
       "      <td>1013300</td>\n",
       "      <td>1018700</td>\n",
       "      <td>1024400</td>\n",
       "      <td>1030700</td>\n",
       "      <td>1033800</td>\n",
       "      <td>1030600</td>\n",
       "    </tr>\n",
       "    <tr>\n",
       "      <th>1</th>\n",
       "      <td>90668</td>\n",
       "      <td>75070</td>\n",
       "      <td>McKinney</td>\n",
       "      <td>TX</td>\n",
       "      <td>Dallas-Fort Worth</td>\n",
       "      <td>Collin</td>\n",
       "      <td>2</td>\n",
       "      <td>235700.0</td>\n",
       "      <td>236900.0</td>\n",
       "      <td>236700.0</td>\n",
       "      <td>...</td>\n",
       "      <td>308000</td>\n",
       "      <td>310000</td>\n",
       "      <td>312500</td>\n",
       "      <td>314100</td>\n",
       "      <td>315000</td>\n",
       "      <td>316600</td>\n",
       "      <td>318100</td>\n",
       "      <td>319600</td>\n",
       "      <td>321100</td>\n",
       "      <td>321800</td>\n",
       "    </tr>\n",
       "    <tr>\n",
       "      <th>2</th>\n",
       "      <td>91982</td>\n",
       "      <td>77494</td>\n",
       "      <td>Katy</td>\n",
       "      <td>TX</td>\n",
       "      <td>Houston</td>\n",
       "      <td>Harris</td>\n",
       "      <td>3</td>\n",
       "      <td>210400.0</td>\n",
       "      <td>212200.0</td>\n",
       "      <td>212200.0</td>\n",
       "      <td>...</td>\n",
       "      <td>321000</td>\n",
       "      <td>320600</td>\n",
       "      <td>320200</td>\n",
       "      <td>320400</td>\n",
       "      <td>320800</td>\n",
       "      <td>321200</td>\n",
       "      <td>321200</td>\n",
       "      <td>323000</td>\n",
       "      <td>326900</td>\n",
       "      <td>329900</td>\n",
       "    </tr>\n",
       "    <tr>\n",
       "      <th>3</th>\n",
       "      <td>84616</td>\n",
       "      <td>60614</td>\n",
       "      <td>Chicago</td>\n",
       "      <td>IL</td>\n",
       "      <td>Chicago</td>\n",
       "      <td>Cook</td>\n",
       "      <td>4</td>\n",
       "      <td>498100.0</td>\n",
       "      <td>500900.0</td>\n",
       "      <td>503100.0</td>\n",
       "      <td>...</td>\n",
       "      <td>1289800</td>\n",
       "      <td>1287700</td>\n",
       "      <td>1287400</td>\n",
       "      <td>1291500</td>\n",
       "      <td>1296600</td>\n",
       "      <td>1299000</td>\n",
       "      <td>1302700</td>\n",
       "      <td>1306400</td>\n",
       "      <td>1308500</td>\n",
       "      <td>1307000</td>\n",
       "    </tr>\n",
       "    <tr>\n",
       "      <th>4</th>\n",
       "      <td>93144</td>\n",
       "      <td>79936</td>\n",
       "      <td>El Paso</td>\n",
       "      <td>TX</td>\n",
       "      <td>El Paso</td>\n",
       "      <td>El Paso</td>\n",
       "      <td>5</td>\n",
       "      <td>77300.0</td>\n",
       "      <td>77300.0</td>\n",
       "      <td>77300.0</td>\n",
       "      <td>...</td>\n",
       "      <td>119100</td>\n",
       "      <td>119400</td>\n",
       "      <td>120000</td>\n",
       "      <td>120300</td>\n",
       "      <td>120300</td>\n",
       "      <td>120300</td>\n",
       "      <td>120300</td>\n",
       "      <td>120500</td>\n",
       "      <td>121000</td>\n",
       "      <td>121500</td>\n",
       "    </tr>\n",
       "  </tbody>\n",
       "</table>\n",
       "<p>5 rows × 272 columns</p>\n",
       "</div>"
      ],
      "text/plain": [
       "   RegionID  RegionName      City State              Metro CountyName  \\\n",
       "0     84654       60657   Chicago    IL            Chicago       Cook   \n",
       "1     90668       75070  McKinney    TX  Dallas-Fort Worth     Collin   \n",
       "2     91982       77494      Katy    TX            Houston     Harris   \n",
       "3     84616       60614   Chicago    IL            Chicago       Cook   \n",
       "4     93144       79936   El Paso    TX            El Paso    El Paso   \n",
       "\n",
       "   SizeRank   1996-04   1996-05   1996-06  ...  2017-07  2017-08  2017-09  \\\n",
       "0         1  334200.0  335400.0  336500.0  ...  1005500  1007500  1007800   \n",
       "1         2  235700.0  236900.0  236700.0  ...   308000   310000   312500   \n",
       "2         3  210400.0  212200.0  212200.0  ...   321000   320600   320200   \n",
       "3         4  498100.0  500900.0  503100.0  ...  1289800  1287700  1287400   \n",
       "4         5   77300.0   77300.0   77300.0  ...   119100   119400   120000   \n",
       "\n",
       "   2017-10  2017-11  2017-12  2018-01  2018-02  2018-03  2018-04  \n",
       "0  1009600  1013300  1018700  1024400  1030700  1033800  1030600  \n",
       "1   314100   315000   316600   318100   319600   321100   321800  \n",
       "2   320400   320800   321200   321200   323000   326900   329900  \n",
       "3  1291500  1296600  1299000  1302700  1306400  1308500  1307000  \n",
       "4   120300   120300   120300   120300   120500   121000   121500  \n",
       "\n",
       "[5 rows x 272 columns]"
      ]
     },
     "execution_count": 26,
     "metadata": {},
     "output_type": "execute_result"
    }
   ],
   "source": [
    "data = pd.read_csv(\"data/zillow_data.csv\")\n",
    "data.head()"
   ]
  },
  {
   "cell_type": "code",
   "execution_count": 3,
   "metadata": {},
   "outputs": [
    {
     "name": "stdout",
     "output_type": "stream",
     "text": [
      "<class 'pandas.core.frame.DataFrame'>\n",
      "RangeIndex: 14723 entries, 0 to 14722\n",
      "Columns: 272 entries, RegionID to 2018-04\n",
      "dtypes: float64(219), int64(49), object(4)\n",
      "memory usage: 30.6+ MB\n"
     ]
    }
   ],
   "source": [
    "data.info()"
   ]
  },
  {
   "cell_type": "markdown",
   "metadata": {},
   "source": [
    "The dataset contains 14723 rows and 272 columns.    \n",
    "Each of the row is an individual property.    \n",
    "The dataset as seen is in a Wide format. Columns 1-7 show the different properties of a house.    \n",
    "However,  column 8 to column 272 are actual time series values. The columns refer to the median house sales values for their respective month and year.      \n",
    "This format makes the dataframe intuitive and easy to read. However problems with this dataset may come in when it comes to actually learning from the data. We'll deal with that when we get there.   \n",
    "The first 7 columns represent:\n",
    "* RegionID - The Regional ID for the region where a house is located.\n",
    "* RegionName - The Zipcode. \n",
    "* City - The City of a particular house. \n",
    "* State - The state in which a home is in. \n",
    "* Metro - The metropolitan area where the home is found. \n",
    "* CountyName - The county where the home is in. \n",
    "* SizeRank - Hapa sijui. "
   ]
  },
  {
   "cell_type": "markdown",
   "metadata": {},
   "source": [
    "Drop the unnecessary columns and rename the RegionName to zipcode"
   ]
  },
  {
   "cell_type": "code",
   "execution_count": 4,
   "metadata": {},
   "outputs": [],
   "source": [
    "#  drop the unnecessary columns\n",
    "data.drop([\"RegionID\", \"Metro\", \"SizeRank\"], axis=1, inplace=True)\n",
    "\n",
    "# rename the RegionName to ZipCode\n",
    "data.rename({\"RegionName\":\"ZipCode\"}, axis=1 , inplace=True)"
   ]
  },
  {
   "cell_type": "markdown",
   "metadata": {},
   "source": [
    "We can reshape the dataset to a Long Format. "
   ]
  },
  {
   "cell_type": "code",
   "execution_count": 5,
   "metadata": {},
   "outputs": [
    {
     "data": {
      "text/html": [
       "<div>\n",
       "<style scoped>\n",
       "    .dataframe tbody tr th:only-of-type {\n",
       "        vertical-align: middle;\n",
       "    }\n",
       "\n",
       "    .dataframe tbody tr th {\n",
       "        vertical-align: top;\n",
       "    }\n",
       "\n",
       "    .dataframe thead th {\n",
       "        text-align: right;\n",
       "    }\n",
       "</style>\n",
       "<table border=\"1\" class=\"dataframe\">\n",
       "  <thead>\n",
       "    <tr style=\"text-align: right;\">\n",
       "      <th></th>\n",
       "      <th>ZipCode</th>\n",
       "      <th>City</th>\n",
       "      <th>State</th>\n",
       "      <th>CountyName</th>\n",
       "      <th>time</th>\n",
       "      <th>value</th>\n",
       "    </tr>\n",
       "  </thead>\n",
       "  <tbody>\n",
       "    <tr>\n",
       "      <th>0</th>\n",
       "      <td>60657</td>\n",
       "      <td>Chicago</td>\n",
       "      <td>IL</td>\n",
       "      <td>Cook</td>\n",
       "      <td>1996-04</td>\n",
       "      <td>334200.0</td>\n",
       "    </tr>\n",
       "    <tr>\n",
       "      <th>1</th>\n",
       "      <td>75070</td>\n",
       "      <td>McKinney</td>\n",
       "      <td>TX</td>\n",
       "      <td>Collin</td>\n",
       "      <td>1996-04</td>\n",
       "      <td>235700.0</td>\n",
       "    </tr>\n",
       "    <tr>\n",
       "      <th>2</th>\n",
       "      <td>77494</td>\n",
       "      <td>Katy</td>\n",
       "      <td>TX</td>\n",
       "      <td>Harris</td>\n",
       "      <td>1996-04</td>\n",
       "      <td>210400.0</td>\n",
       "    </tr>\n",
       "    <tr>\n",
       "      <th>3</th>\n",
       "      <td>60614</td>\n",
       "      <td>Chicago</td>\n",
       "      <td>IL</td>\n",
       "      <td>Cook</td>\n",
       "      <td>1996-04</td>\n",
       "      <td>498100.0</td>\n",
       "    </tr>\n",
       "    <tr>\n",
       "      <th>4</th>\n",
       "      <td>79936</td>\n",
       "      <td>El Paso</td>\n",
       "      <td>TX</td>\n",
       "      <td>El Paso</td>\n",
       "      <td>1996-04</td>\n",
       "      <td>77300.0</td>\n",
       "    </tr>\n",
       "  </tbody>\n",
       "</table>\n",
       "</div>"
      ],
      "text/plain": [
       "   ZipCode      City State CountyName     time     value\n",
       "0    60657   Chicago    IL       Cook  1996-04  334200.0\n",
       "1    75070  McKinney    TX     Collin  1996-04  235700.0\n",
       "2    77494      Katy    TX     Harris  1996-04  210400.0\n",
       "3    60614   Chicago    IL       Cook  1996-04  498100.0\n",
       "4    79936   El Paso    TX    El Paso  1996-04   77300.0"
      ]
     },
     "execution_count": 5,
     "metadata": {},
     "output_type": "execute_result"
    }
   ],
   "source": [
    "def melt_data(df):\n",
    "    \"\"\"\n",
    "    Takes the zillow_data dataset in wide form or a subset of the zillow_dataset.  \n",
    "    Returns a long-form datetime dataframe \n",
    "    with the datetime column names as the index and the values as the 'values' column.\n",
    "    \n",
    "    If more than one row is passes in the wide-form dataset, the values column\n",
    "    will be the mean of the values from the datetime columns in all of the rows.\n",
    "    \"\"\"\n",
    "    \n",
    "    melted = pd.melt(df, id_vars=['ZipCode', 'City', 'State',  'CountyName'], var_name='time')\n",
    "    # melted['time'] = pd.to_datetime(melted['time'], infer_datetime_format=True)\n",
    "    # melted = melted.dropna(subset=['value'])\n",
    "    return melted\n",
    "\n",
    "melted_data = melt_data(data) \n",
    "melted_data.head()"
   ]
  },
  {
   "cell_type": "code",
   "execution_count": 6,
   "metadata": {},
   "outputs": [
    {
     "data": {
      "text/plain": [
       "ZipCode            0\n",
       "City               0\n",
       "State              0\n",
       "CountyName         0\n",
       "time               0\n",
       "value         156891\n",
       "dtype: int64"
      ]
     },
     "execution_count": 6,
     "metadata": {},
     "output_type": "execute_result"
    }
   ],
   "source": [
    "melted_data.isna().sum()"
   ]
  },
  {
   "cell_type": "markdown",
   "metadata": {},
   "source": [
    "There are no duplicates"
   ]
  },
  {
   "cell_type": "code",
   "execution_count": 7,
   "metadata": {},
   "outputs": [
    {
     "data": {
      "text/plain": [
       "State\n",
       "CA    324360\n",
       "NY    268975\n",
       "TX    262085\n",
       "PA    220215\n",
       "FL    208025\n",
       "OH    155820\n",
       "IL    144955\n",
       "NJ    133030\n",
       "MI    132235\n",
       "IN    113420\n",
       "NC    113420\n",
       "MA    110505\n",
       "TN    107060\n",
       "VA    106265\n",
       "MN     99375\n",
       "GA     91425\n",
       "WA     90365\n",
       "WI     87980\n",
       "MO     84535\n",
       "MD     84005\n",
       "CO     65985\n",
       "KS     63865\n",
       "AZ     60950\n",
       "OR     59360\n",
       "OK     58565\n",
       "SC     54590\n",
       "NH     52735\n",
       "LA     51145\n",
       "AL     48495\n",
       "IA     41870\n",
       "MS     40545\n",
       "KY     36835\n",
       "CT     32860\n",
       "UT     32065\n",
       "ID     29150\n",
       "AR     27825\n",
       "NV     27295\n",
       "ME     22790\n",
       "NE     21995\n",
       "WV     19080\n",
       "MT     18815\n",
       "HI     16430\n",
       "NM     15900\n",
       "RI     15635\n",
       "DE     10865\n",
       "ND      8215\n",
       "WY      8215\n",
       "AK      7420\n",
       "SD      5035\n",
       "DC      4770\n",
       "VT      4240\n",
       "Name: count, dtype: int64"
      ]
     },
     "execution_count": 7,
     "metadata": {},
     "output_type": "execute_result"
    }
   ],
   "source": [
    "melted_data[\"State\"].value_counts()"
   ]
  },
  {
   "cell_type": "code",
   "execution_count": 25,
   "metadata": {},
   "outputs": [
    {
     "data": {
      "text/plain": [
       "time\n",
       "1996-04    14723\n",
       "2011-06    14723\n",
       "2010-04    14723\n",
       "2010-05    14723\n",
       "2010-06    14723\n",
       "           ...  \n",
       "2004-02    14723\n",
       "2004-03    14723\n",
       "2004-04    14723\n",
       "2004-05    14723\n",
       "2018-04    14723\n",
       "Name: count, Length: 265, dtype: int64"
      ]
     },
     "execution_count": 25,
     "metadata": {},
     "output_type": "execute_result"
    }
   ],
   "source": [
    "melted_data[\"time\"].value_counts()"
   ]
  },
  {
   "cell_type": "markdown",
   "metadata": {},
   "source": [
    "### Exploratory Data Analysis And Visualization"
   ]
  },
  {
   "cell_type": "markdown",
   "metadata": {},
   "source": [
    "For computational efficiency, we will have to work with one out of the 51 states.  \n",
    "We will work with Washington DC. "
   ]
  },
  {
   "cell_type": "code",
   "execution_count": 35,
   "metadata": {},
   "outputs": [
    {
     "name": "stdout",
     "output_type": "stream",
     "text": [
      "<class 'pandas.core.frame.DataFrame'>\n",
      "Index: 4770 entries, 29 to 3893759\n",
      "Data columns (total 6 columns):\n",
      " #   Column      Non-Null Count  Dtype  \n",
      "---  ------      --------------  -----  \n",
      " 0   ZipCode     4770 non-null   int64  \n",
      " 1   City        4770 non-null   object \n",
      " 2   State       4770 non-null   object \n",
      " 3   CountyName  4770 non-null   object \n",
      " 4   time        4770 non-null   object \n",
      " 5   value       4770 non-null   float64\n",
      "dtypes: float64(1), int64(1), object(4)\n",
      "memory usage: 260.9+ KB\n"
     ]
    }
   ],
   "source": [
    "df = melted_data[melted_data[\"State\"] == \"DC\"]\n",
    "df.info()"
   ]
  },
  {
   "cell_type": "markdown",
   "metadata": {},
   "source": [
    "DC Washington has 4770 properties.   \n",
    "We will need to group our data to zipcodes and have the time as our index to be able to manipulate the dataframe better. "
   ]
  },
  {
   "cell_type": "code",
   "execution_count": 83,
   "metadata": {},
   "outputs": [],
   "source": [
    "# Change the time column to a DataFram Object.\n",
    "# df[\"time\"] = pd.to_datetime(df[\"time\"], format=\"%Y-%m\")\n",
    " \n",
    "# # Set the time column as the index.\n",
    "# df.set_index(\"time\", inplace=True)\n",
    "\n"
   ]
  },
  {
   "cell_type": "markdown",
   "metadata": {},
   "source": []
  },
  {
   "cell_type": "code",
   "execution_count": 105,
   "metadata": {},
   "outputs": [
    {
     "data": {
      "text/plain": [
       "time\n",
       "2018-04-01     691300.0\n",
       "2018-04-01    1078200.0\n",
       "2018-04-01     619100.0\n",
       "2018-04-01     308600.0\n",
       "2018-04-01     793300.0\n",
       "2018-04-01     337000.0\n",
       "2018-04-01    1545900.0\n",
       "2018-04-01     820200.0\n",
       "2018-04-01     307400.0\n",
       "2018-04-01    1199500.0\n",
       "2018-04-01     778200.0\n",
       "2018-04-01    1290000.0\n",
       "2018-04-01     885000.0\n",
       "2018-04-01     548900.0\n",
       "2018-04-01     554100.0\n",
       "2018-04-01    1019600.0\n",
       "2018-04-01    1004000.0\n",
       "2018-04-01     730700.0\n",
       "Name: value, dtype: float64"
      ]
     },
     "execution_count": 105,
     "metadata": {},
     "output_type": "execute_result"
    }
   ],
   "source": [
    "df.loc['2018-04-01'][\"value\"]"
   ]
  },
  {
   "cell_type": "code",
   "execution_count": 90,
   "metadata": {},
   "outputs": [
    {
     "data": {
      "text/plain": [
       "Timestamp('2015-04-01 00:00:00')"
      ]
     },
     "execution_count": 90,
     "metadata": {},
     "output_type": "execute_result"
    }
   ],
   "source": [
    "df.index[-1] - pd.DateOffset(years=3)"
   ]
  },
  {
   "cell_type": "markdown",
   "metadata": {},
   "source": [
    "We will select the best zipcodes with `ROI` as our metric. \n",
    "`ROI` is the Return on Investment.   \n",
    "We will use a long term term period , 10 years, in calculating the ROI because our dataset only has  home values.   \n",
    "My logic is that in the long term, holding a property for increase in its value is the best strategy. \n",
    "ROI is calculated as: (Final Value - Initial Value) / Initial Value * 100"
   ]
  },
  {
   "cell_type": "code",
   "execution_count": 121,
   "metadata": {},
   "outputs": [
    {
     "name": "stdout",
     "output_type": "stream",
     "text": [
      "Zip Code: 20032, ROI: 62.130801687763714\n",
      "Zip Code: 20019, ROI: 58.33760903027193\n",
      "Zip Code: 20017, ROI: 47.1976401179941\n",
      "Zip Code: 20020, ROI: 46.969036197121675\n",
      "Zip Code: 20011, ROI: 44.54821386878356\n"
     ]
    }
   ],
   "source": [
    "def ROI (df, frequency=10):\n",
    "    \"\"\"\n",
    "    This function takes in a dataframe and returns the Zipcodes with the best ROI for a given frequency. eg 3 year best ROI for the last 3 years\n",
    "    \"\"\" \n",
    "    zipcode_roi = {}\n",
    "    zipcodes = zipcodes = list(df[\"ZipCode\"].unique())\n",
    "    end_date = df.index[-1]\n",
    "    start_date = df.index[-1] - pd.DateOffset(years=frequency)\n",
    "    for zipcode in zipcodes:\n",
    "        roi = ((df[df[\"ZipCode\"] == zipcode].loc[end_date][\"value\"] - df[df[\"ZipCode\"] == zipcode].loc[start_date][\"value\"])  / df[df[\"ZipCode\"] == zipcode].loc[start_date][\"value\"]) * 100\n",
    "        zipcode_roi[zipcode] = roi\n",
    "    return zipcode_roi\n",
    "\n",
    "roi_dict = ROI(df, 4)\n",
    "# Get the top 5 zip codes and their ROI\n",
    "top_5_zipcodes = sorted(roi_dict.items(), key=lambda x: x[1], reverse=True)[:5]\n",
    "\n",
    "# Display the result\n",
    "top_5 = []\n",
    "for zipcode, roi in top_5_zipcodes:\n",
    "    print(f\"Zip Code: {zipcode}, ROI: {roi}\")\n",
    "    top_5.append(zipcode)"
   ]
  },
  {
   "cell_type": "code",
   "execution_count": 133,
   "metadata": {},
   "outputs": [
    {
     "data": {
      "image/png": "[encoded data removed]",
      "text/plain": [
       "<Figure size 432x288 with 1 Axes>"
      ]
     },
     "metadata": {
      "needs_background": "light"
     },
     "output_type": "display_data"
    }
   ],
   "source": [
    "# for zipcode in top_5:\n",
    "#     time_data = df[df[\"ZipCode\"] == zipcode][\"value\"]\n",
    "#     time_data.plot(ylabel=\"Home value\", )\n",
    "num = 0\n",
    "for zipcode in top_5:\n",
    "    num += 1\n",
    "    time_data = df[df[\"ZipCode\"] == zipcode][\"value\"]\n",
    "    time_data.plot(label=f'ZipCode {zipcode}, ({num})')\n",
    "\n",
    "plt.title('Home Value Over Time for Top 5 Zip Codes')\n",
    "plt.xlabel('Time')\n",
    "plt.ylabel('Home Value')\n",
    "plt.legend()\n",
    "plt.show()"
   ]
  },
  {
   "cell_type": "code",
   "execution_count": null,
   "metadata": {},
   "outputs": [],
   "source": []
  }
 ],
 "metadata": {
  "kernelspec": {
   "display_name": "learn-env",
   "language": "python",
   "name": "python3"
  },
  "language_info": {
   "codemirror_mode": {
    "name": "ipython",
    "version": 3
   },
   "file_extension": ".py",
   "mimetype": "text/x-python",
   "name": "python",
   "nbconvert_exporter": "python",
   "pygments_lexer": "ipython3",
   "version": "3.8.5"
  }
 },
 "nbformat": 4,
 "nbformat_minor": 2
}
