{
 "cells": [
  {
   "cell_type": "markdown",
   "metadata": {},
   "source": [
    "# ZILLOW HOUSING DATA TIME SERIES ANALYSIS"
   ]
  },
  {
   "cell_type": "markdown",
   "metadata": {},
   "source": [
    "## BUSINESS UNDERSTANDING "
   ]
  },
  {
   "cell_type": "markdown",
   "metadata": {},
   "source": [
    "### PROBLEM STATEMENT\n",
    "\n",
    "Real investment firms weigh on many factors when deciding on which investment to make. These firms’ goals are to enhance their decision making processes. With historical real estate market data, the challenge is to leverage data science techniques to identify potential investment opportunities and helping the real estate firms in making informed investment decisions.\n",
    "\n",
    "### OBJECTIVES\n",
    "Main Objectives:\n",
    "* Identify the 5 best zip codes.\n",
    "\n",
    "Secondary Objectives:\n",
    "* Predict the prices of the best 5 zipcodes. "
   ]
  },
  {
   "cell_type": "code",
   "execution_count": 2,
   "metadata": {},
   "outputs": [
    {
     "name": "stdout",
     "output_type": "stream",
     "text": [
      "Requirement already satisfied: prophet in /home/timothy/anaconda3/envs/learn-env/lib/python3.8/site-packages (1.1.5)\n",
      "Requirement already satisfied: matplotlib>=2.0.0 in /home/timothy/anaconda3/envs/learn-env/lib/python3.8/site-packages (from prophet) (3.3.1)\n",
      "Requirement already satisfied: pandas>=1.0.4 in /home/timothy/anaconda3/envs/learn-env/lib/python3.8/site-packages (from prophet) (2.0.3)\n",
      "Requirement already satisfied: importlib-resources in /home/timothy/anaconda3/envs/learn-env/lib/python3.8/site-packages (from prophet) (6.1.1)\n",
      "Requirement already satisfied: numpy>=1.15.4 in /home/timothy/anaconda3/envs/learn-env/lib/python3.8/site-packages (from prophet) (1.23.4)\n",
      "Requirement already satisfied: cmdstanpy>=1.0.4 in /home/timothy/anaconda3/envs/learn-env/lib/python3.8/site-packages (from prophet) (1.2.0)\n",
      "Requirement already satisfied: holidays>=0.25 in /home/timothy/anaconda3/envs/learn-env/lib/python3.8/site-packages (from prophet) (0.41)\n",
      "Requirement already satisfied: tqdm>=4.36.1 in /home/timothy/anaconda3/envs/learn-env/lib/python3.8/site-packages (from prophet) (4.50.2)\n",
      "Requirement already satisfied: cycler>=0.10 in /home/timothy/anaconda3/envs/learn-env/lib/python3.8/site-packages (from matplotlib>=2.0.0->prophet) (0.10.0)\n",
      "Requirement already satisfied: pyparsing!=2.0.4,!=2.1.2,!=2.1.6,>=2.0.3 in /home/timothy/anaconda3/envs/learn-env/lib/python3.8/site-packages (from matplotlib>=2.0.0->prophet) (2.4.7)\n",
      "Requirement already satisfied: kiwisolver>=1.0.1 in /home/timothy/anaconda3/envs/learn-env/lib/python3.8/site-packages (from matplotlib>=2.0.0->prophet) (1.2.0)\n",
      "Requirement already satisfied: certifi>=2020.06.20 in /home/timothy/anaconda3/envs/learn-env/lib/python3.8/site-packages (from matplotlib>=2.0.0->prophet) (2020.6.20)\n",
      "Requirement already satisfied: pillow>=6.2.0 in /home/timothy/anaconda3/envs/learn-env/lib/python3.8/site-packages (from matplotlib>=2.0.0->prophet) (7.2.0)\n",
      "Requirement already satisfied: python-dateutil>=2.1 in /home/timothy/anaconda3/envs/learn-env/lib/python3.8/site-packages (from matplotlib>=2.0.0->prophet) (2.8.2)\n",
      "Requirement already satisfied: tzdata>=2022.1 in /home/timothy/anaconda3/envs/learn-env/lib/python3.8/site-packages (from pandas>=1.0.4->prophet) (2023.3)\n",
      "Requirement already satisfied: pytz>=2020.1 in /home/timothy/anaconda3/envs/learn-env/lib/python3.8/site-packages (from pandas>=1.0.4->prophet) (2020.1)\n",
      "Requirement already satisfied: zipp>=3.1.0; python_version < \"3.10\" in /home/timothy/anaconda3/envs/learn-env/lib/python3.8/site-packages (from importlib-resources->prophet) (3.3.0)\n",
      "Requirement already satisfied: stanio~=0.3.0 in /home/timothy/anaconda3/envs/learn-env/lib/python3.8/site-packages (from cmdstanpy>=1.0.4->prophet) (0.3.0)\n",
      "Requirement already satisfied: six in /home/timothy/anaconda3/envs/learn-env/lib/python3.8/site-packages (from cycler>=0.10->matplotlib>=2.0.0->prophet) (1.15.0)\n",
      "Requirement already satisfied: pmdarima in /home/timothy/anaconda3/envs/learn-env/lib/python3.8/site-packages (2.0.4)\n",
      "Requirement already satisfied: statsmodels>=0.13.2 in /home/timothy/anaconda3/envs/learn-env/lib/python3.8/site-packages (from pmdarima) (0.14.0)\n",
      "Requirement already satisfied: pandas>=0.19 in /home/timothy/anaconda3/envs/learn-env/lib/python3.8/site-packages (from pmdarima) (2.0.3)\n",
      "Requirement already satisfied: numpy>=1.21.2 in /home/timothy/anaconda3/envs/learn-env/lib/python3.8/site-packages (from pmdarima) (1.23.4)\n",
      "Requirement already satisfied: urllib3 in /home/timothy/anaconda3/envs/learn-env/lib/python3.8/site-packages (from pmdarima) (1.25.10)\n",
      "Requirement already satisfied: joblib>=0.11 in /home/timothy/anaconda3/envs/learn-env/lib/python3.8/site-packages (from pmdarima) (1.3.2)\n",
      "Requirement already satisfied: setuptools!=50.0.0,>=38.6.0 in /home/timothy/anaconda3/envs/learn-env/lib/python3.8/site-packages (from pmdarima) (50.3.0.post20201103)\n",
      "Requirement already satisfied: packaging>=17.1 in /home/timothy/anaconda3/envs/learn-env/lib/python3.8/site-packages (from pmdarima) (23.2)\n",
      "Requirement already satisfied: scikit-learn>=0.22 in /home/timothy/anaconda3/envs/learn-env/lib/python3.8/site-packages (from pmdarima) (1.3.2)\n",
      "Requirement already satisfied: scipy>=1.3.2 in /home/timothy/anaconda3/envs/learn-env/lib/python3.8/site-packages (from pmdarima) (1.5.2)\n",
      "Requirement already satisfied: Cython!=0.29.18,!=0.29.31,>=0.29 in /home/timothy/anaconda3/envs/learn-env/lib/python3.8/site-packages (from pmdarima) (0.29.21)\n",
      "Requirement already satisfied: patsy>=0.5.2 in /home/timothy/anaconda3/envs/learn-env/lib/python3.8/site-packages (from statsmodels>=0.13.2->pmdarima) (0.5.3)\n",
      "Requirement already satisfied: tzdata>=2022.1 in /home/timothy/anaconda3/envs/learn-env/lib/python3.8/site-packages (from pandas>=0.19->pmdarima) (2023.3)\n",
      "Requirement already satisfied: pytz>=2020.1 in /home/timothy/anaconda3/envs/learn-env/lib/python3.8/site-packages (from pandas>=0.19->pmdarima) (2020.1)\n",
      "Requirement already satisfied: python-dateutil>=2.8.2 in /home/timothy/anaconda3/envs/learn-env/lib/python3.8/site-packages (from pandas>=0.19->pmdarima) (2.8.2)\n",
      "Requirement already satisfied: threadpoolctl>=2.0.0 in /home/timothy/anaconda3/envs/learn-env/lib/python3.8/site-packages (from scikit-learn>=0.22->pmdarima) (2.1.0)\n",
      "Requirement already satisfied: six in /home/timothy/anaconda3/envs/learn-env/lib/python3.8/site-packages (from patsy>=0.5.2->statsmodels>=0.13.2->pmdarima) (1.15.0)\n"
     ]
    }
   ],
   "source": [
    "!pip install prophet\n",
    "\n",
    "!pip install pmdarima\n"
   ]
  },
  {
   "cell_type": "code",
   "execution_count": 3,
   "metadata": {},
   "outputs": [
    {
     "name": "stderr",
     "output_type": "stream",
     "text": [
      "<frozen importlib._bootstrap>:219: RuntimeWarning: numpy.ufunc size changed, may indicate binary incompatibility. Expected 216 from C header, got 232 from PyObject\n",
      "<frozen importlib._bootstrap>:219: RuntimeWarning: numpy.ufunc size changed, may indicate binary incompatibility. Expected 216 from C header, got 232 from PyObject\n",
      "<frozen importlib._bootstrap>:219: RuntimeWarning: numpy.ufunc size changed, may indicate binary incompatibility. Expected 216 from C header, got 232 from PyObject\n"
     ]
    }
   ],
   "source": [
    "## Importing the necessary Libraries\n",
    "import pandas as pd\n",
    "import matplotlib.pyplot as plt\n",
    "from functions import *  \n",
    "import numpy as np\n",
    "import seaborn as sns\n",
    "from scipy.stats import boxcox\n",
    "from statsmodels.graphics.tsaplots import plot_pacf\n",
    "from statsmodels.graphics.tsaplots import plot_acf\n",
    "from matplotlib.pylab import rcParams\n",
    "from statsmodels.tsa.arima.model import ARIMA\n",
    "from statsmodels.tsa.ar_model import AutoReg\n",
    "from sklearn.metrics import mean_squared_error, mean_absolute_error\n",
    "from math import sqrt\n",
    "from sklearn.model_selection import TimeSeriesSplit\n",
    "from statsmodels.tsa.stattools import adfuller\n",
    "from statsmodels.tsa.seasonal import seasonal_decompose\n",
    "from pmdarima import auto_arima\n",
    "from statsmodels.tsa.holtwinters import ExponentialSmoothing\n",
    "from statsmodels.tsa.stattools import adfuller\n",
    "from prophet import Prophet\n",
    "from statsmodels.tsa.statespace.sarimax import SARIMAX\n",
    "from sklearn.model_selection import train_test_split\n",
    "\n",
    "\n",
    "\n",
    "import warnings\n",
    "\n",
    "# Ignore all warnings\n",
    "warnings.filterwarnings(\"ignore\")\n"
   ]
  },
  {
   "cell_type": "markdown",
   "metadata": {},
   "source": [
    "## DATA UNDERSTANDING"
   ]
  },
  {
   "cell_type": "markdown",
   "metadata": {},
   "source": [
    "#### Load the dataset"
   ]
  },
  {
   "cell_type": "markdown",
   "metadata": {},
   "source": [
    "This project uses data from ZIllow housing data,  found [here](https://www.zillow.com/research/data/)"
   ]
  },
  {
   "cell_type": "code",
   "execution_count": 4,
   "metadata": {},
   "outputs": [
    {
     "data": {
      "text/html": [
       "<div>\n",
       "<style scoped>\n",
       "    .dataframe tbody tr th:only-of-type {\n",
       "        vertical-align: middle;\n",
       "    }\n",
       "\n",
       "    .dataframe tbody tr th {\n",
       "        vertical-align: top;\n",
       "    }\n",
       "\n",
       "    .dataframe thead th {\n",
       "        text-align: right;\n",
       "    }\n",
       "</style>\n",
       "<table border=\"1\" class=\"dataframe\">\n",
       "  <thead>\n",
       "    <tr style=\"text-align: right;\">\n",
       "      <th></th>\n",
       "      <th>RegionID</th>\n",
       "      <th>RegionName</th>\n",
       "      <th>City</th>\n",
       "      <th>State</th>\n",
       "      <th>Metro</th>\n",
       "      <th>CountyName</th>\n",
       "      <th>SizeRank</th>\n",
       "      <th>1996-04</th>\n",
       "      <th>1996-05</th>\n",
       "      <th>1996-06</th>\n",
       "      <th>...</th>\n",
       "      <th>2017-07</th>\n",
       "      <th>2017-08</th>\n",
       "      <th>2017-09</th>\n",
       "      <th>2017-10</th>\n",
       "      <th>2017-11</th>\n",
       "      <th>2017-12</th>\n",
       "      <th>2018-01</th>\n",
       "      <th>2018-02</th>\n",
       "      <th>2018-03</th>\n",
       "      <th>2018-04</th>\n",
       "    </tr>\n",
       "  </thead>\n",
       "  <tbody>\n",
       "    <tr>\n",
       "      <th>0</th>\n",
       "      <td>84654</td>\n",
       "      <td>60657</td>\n",
       "      <td>Chicago</td>\n",
       "      <td>IL</td>\n",
       "      <td>Chicago</td>\n",
       "      <td>Cook</td>\n",
       "      <td>1</td>\n",
       "      <td>334200.0</td>\n",
       "      <td>335400.0</td>\n",
       "      <td>336500.0</td>\n",
       "      <td>...</td>\n",
       "      <td>1005500</td>\n",
       "      <td>1007500</td>\n",
       "      <td>1007800</td>\n",
       "      <td>1009600</td>\n",
       "      <td>1013300</td>\n",
       "      <td>1018700</td>\n",
       "      <td>1024400</td>\n",
       "      <td>1030700</td>\n",
       "      <td>1033800</td>\n",
       "      <td>1030600</td>\n",
       "    </tr>\n",
       "    <tr>\n",
       "      <th>1</th>\n",
       "      <td>90668</td>\n",
       "      <td>75070</td>\n",
       "      <td>McKinney</td>\n",
       "      <td>TX</td>\n",
       "      <td>Dallas-Fort Worth</td>\n",
       "      <td>Collin</td>\n",
       "      <td>2</td>\n",
       "      <td>235700.0</td>\n",
       "      <td>236900.0</td>\n",
       "      <td>236700.0</td>\n",
       "      <td>...</td>\n",
       "      <td>308000</td>\n",
       "      <td>310000</td>\n",
       "      <td>312500</td>\n",
       "      <td>314100</td>\n",
       "      <td>315000</td>\n",
       "      <td>316600</td>\n",
       "      <td>318100</td>\n",
       "      <td>319600</td>\n",
       "      <td>321100</td>\n",
       "      <td>321800</td>\n",
       "    </tr>\n",
       "    <tr>\n",
       "      <th>2</th>\n",
       "      <td>91982</td>\n",
       "      <td>77494</td>\n",
       "      <td>Katy</td>\n",
       "      <td>TX</td>\n",
       "      <td>Houston</td>\n",
       "      <td>Harris</td>\n",
       "      <td>3</td>\n",
       "      <td>210400.0</td>\n",
       "      <td>212200.0</td>\n",
       "      <td>212200.0</td>\n",
       "      <td>...</td>\n",
       "      <td>321000</td>\n",
       "      <td>320600</td>\n",
       "      <td>320200</td>\n",
       "      <td>320400</td>\n",
       "      <td>320800</td>\n",
       "      <td>321200</td>\n",
       "      <td>321200</td>\n",
       "      <td>323000</td>\n",
       "      <td>326900</td>\n",
       "      <td>329900</td>\n",
       "    </tr>\n",
       "    <tr>\n",
       "      <th>3</th>\n",
       "      <td>84616</td>\n",
       "      <td>60614</td>\n",
       "      <td>Chicago</td>\n",
       "      <td>IL</td>\n",
       "      <td>Chicago</td>\n",
       "      <td>Cook</td>\n",
       "      <td>4</td>\n",
       "      <td>498100.0</td>\n",
       "      <td>500900.0</td>\n",
       "      <td>503100.0</td>\n",
       "      <td>...</td>\n",
       "      <td>1289800</td>\n",
       "      <td>1287700</td>\n",
       "      <td>1287400</td>\n",
       "      <td>1291500</td>\n",
       "      <td>1296600</td>\n",
       "      <td>1299000</td>\n",
       "      <td>1302700</td>\n",
       "      <td>1306400</td>\n",
       "      <td>1308500</td>\n",
       "      <td>1307000</td>\n",
       "    </tr>\n",
       "    <tr>\n",
       "      <th>4</th>\n",
       "      <td>93144</td>\n",
       "      <td>79936</td>\n",
       "      <td>El Paso</td>\n",
       "      <td>TX</td>\n",
       "      <td>El Paso</td>\n",
       "      <td>El Paso</td>\n",
       "      <td>5</td>\n",
       "      <td>77300.0</td>\n",
       "      <td>77300.0</td>\n",
       "      <td>77300.0</td>\n",
       "      <td>...</td>\n",
       "      <td>119100</td>\n",
       "      <td>119400</td>\n",
       "      <td>120000</td>\n",
       "      <td>120300</td>\n",
       "      <td>120300</td>\n",
       "      <td>120300</td>\n",
       "      <td>120300</td>\n",
       "      <td>120500</td>\n",
       "      <td>121000</td>\n",
       "      <td>121500</td>\n",
       "    </tr>\n",
       "  </tbody>\n",
       "</table>\n",
       "<p>5 rows × 272 columns</p>\n",
       "</div>"
      ],
      "text/plain": [
       "   RegionID  RegionName      City State              Metro CountyName  \\\n",
       "0     84654       60657   Chicago    IL            Chicago       Cook   \n",
       "1     90668       75070  McKinney    TX  Dallas-Fort Worth     Collin   \n",
       "2     91982       77494      Katy    TX            Houston     Harris   \n",
       "3     84616       60614   Chicago    IL            Chicago       Cook   \n",
       "4     93144       79936   El Paso    TX            El Paso    El Paso   \n",
       "\n",
       "   SizeRank   1996-04   1996-05   1996-06  ...  2017-07  2017-08  2017-09  \\\n",
       "0         1  334200.0  335400.0  336500.0  ...  1005500  1007500  1007800   \n",
       "1         2  235700.0  236900.0  236700.0  ...   308000   310000   312500   \n",
       "2         3  210400.0  212200.0  212200.0  ...   321000   320600   320200   \n",
       "3         4  498100.0  500900.0  503100.0  ...  1289800  1287700  1287400   \n",
       "4         5   77300.0   77300.0   77300.0  ...   119100   119400   120000   \n",
       "\n",
       "   2017-10  2017-11  2017-12  2018-01  2018-02  2018-03  2018-04  \n",
       "0  1009600  1013300  1018700  1024400  1030700  1033800  1030600  \n",
       "1   314100   315000   316600   318100   319600   321100   321800  \n",
       "2   320400   320800   321200   321200   323000   326900   329900  \n",
       "3  1291500  1296600  1299000  1302700  1306400  1308500  1307000  \n",
       "4   120300   120300   120300   120300   120500   121000   121500  \n",
       "\n",
       "[5 rows x 272 columns]"
      ]
     },
     "execution_count": 4,
     "metadata": {},
     "output_type": "execute_result"
    }
   ],
   "source": [
    "data = pd.read_csv(\"data/zillow_data.csv\")\n",
    "data.head()"
   ]
  },
  {
   "cell_type": "code",
   "execution_count": 5,
   "metadata": {},
   "outputs": [
    {
     "data": {
      "text/plain": [
       "14723"
      ]
     },
     "execution_count": 5,
     "metadata": {},
     "output_type": "execute_result"
    }
   ],
   "source": [
    "len(data[\"RegionName\"].unique())"
   ]
  },
  {
   "cell_type": "code",
   "execution_count": 6,
   "metadata": {},
   "outputs": [
    {
     "name": "stdout",
     "output_type": "stream",
     "text": [
      "<class 'pandas.core.frame.DataFrame'>\n",
      "RangeIndex: 14723 entries, 0 to 14722\n",
      "Columns: 272 entries, RegionID to 2018-04\n",
      "dtypes: float64(219), int64(49), object(4)\n",
      "memory usage: 30.6+ MB\n"
     ]
    }
   ],
   "source": [
    "data.info()"
   ]
  },
  {
   "cell_type": "markdown",
   "metadata": {},
   "source": [
    "The dataset contains 14723 rows and 272 columns.    \n",
    "Each of the row is a unique zipcode.    \n",
    "The dataset as seen is in a Wide format. Columns 1-7 show the different properties of a house.    \n",
    "However,  column 8 to column 272 are actual time series values. The columns refer to the median house sales values for their respective month and year.      \n",
    "This format makes the dataframe intuitive and easy to read. However problems with this dataset may come in when it comes to actually learning from the data. We'll deal with that when we get there.   \n",
    "The first 7 columns represent:\n",
    "* RegionID - The Regional ID for the region where a house is located.\n",
    "* RegionName - The Zipcode. \n",
    "* City - The City of a particular house. \n",
    "* State - The state in which a home is in. \n",
    "* Metro - The metropolitan area where the home is found. \n",
    "* CountyName - The county where the home is in. \n",
    "* SizeRank - Hapa sijui. "
   ]
  },
  {
   "cell_type": "markdown",
   "metadata": {},
   "source": [
    "Drop the unnecessary columns and rename the RegionName to zipcode"
   ]
  },
  {
   "cell_type": "code",
   "execution_count": 7,
   "metadata": {},
   "outputs": [],
   "source": [
    "#  drop the unnecessary columns\n",
    "data.drop([\"RegionID\", \"Metro\", \"SizeRank\", \"CountyName\"], axis=1, inplace=True)\n",
    "\n",
    "# rename the RegionName to ZipCode\n",
    "data.rename({\"RegionName\":\"ZipCode\"}, axis=1 , inplace=True)"
   ]
  },
  {
   "cell_type": "markdown",
   "metadata": {},
   "source": [
    "Check for missing values"
   ]
  },
  {
   "cell_type": "code",
   "execution_count": 8,
   "metadata": {},
   "outputs": [
    {
     "data": {
      "text/plain": [
       "ZipCode       0\n",
       "City          0\n",
       "State         0\n",
       "1996-04    1039\n",
       "1996-05    1039\n",
       "           ... \n",
       "2017-12       0\n",
       "2018-01       0\n",
       "2018-02       0\n",
       "2018-03       0\n",
       "2018-04       0\n",
       "Length: 268, dtype: int64"
      ]
     },
     "execution_count": 8,
     "metadata": {},
     "output_type": "execute_result"
    }
   ],
   "source": [
    "data.isna().sum()"
   ]
  },
  {
   "cell_type": "markdown",
   "metadata": {},
   "source": [
    "As is always the case with time series data, we have missing values. "
   ]
  },
  {
   "cell_type": "code",
   "execution_count": 9,
   "metadata": {},
   "outputs": [],
   "source": [
    "# drop the missing values\n",
    "data.dropna(axis=0, inplace=True)"
   ]
  },
  {
   "cell_type": "code",
   "execution_count": 10,
   "metadata": {},
   "outputs": [
    {
     "data": {
      "text/plain": [
       "0"
      ]
     },
     "execution_count": 10,
     "metadata": {},
     "output_type": "execute_result"
    }
   ],
   "source": [
    "data.isna().sum().sum()"
   ]
  },
  {
   "cell_type": "markdown",
   "metadata": {},
   "source": [
    "### Choosing zipcodes"
   ]
  },
  {
   "cell_type": "markdown",
   "metadata": {},
   "source": [
    "We will use Return On Investment (ROI) and Compound Annual Growth Rate (CAGR) as our metrics  to decide the best zipcodes.          \n",
    "ROI measures the profitability while CAGR checks the risk.      \n",
    "We will measure the best zipcodes for the last 10 years.    \n",
    "We will do this by adding roi column and cagr column to calculate the return on investment and the cagr respectively for every zipcode.  "
   ]
  },
  {
   "cell_type": "code",
   "execution_count": 11,
   "metadata": {},
   "outputs": [
    {
     "data": {
      "text/html": [
       "<div>\n",
       "<style scoped>\n",
       "    .dataframe tbody tr th:only-of-type {\n",
       "        vertical-align: middle;\n",
       "    }\n",
       "\n",
       "    .dataframe tbody tr th {\n",
       "        vertical-align: top;\n",
       "    }\n",
       "\n",
       "    .dataframe thead th {\n",
       "        text-align: right;\n",
       "    }\n",
       "</style>\n",
       "<table border=\"1\" class=\"dataframe\">\n",
       "  <thead>\n",
       "    <tr style=\"text-align: right;\">\n",
       "      <th></th>\n",
       "      <th>ZipCode</th>\n",
       "      <th>City</th>\n",
       "      <th>State</th>\n",
       "      <th>1996-04</th>\n",
       "      <th>1996-05</th>\n",
       "      <th>1996-06</th>\n",
       "      <th>1996-07</th>\n",
       "      <th>1996-08</th>\n",
       "      <th>1996-09</th>\n",
       "      <th>1996-10</th>\n",
       "      <th>...</th>\n",
       "      <th>2017-09</th>\n",
       "      <th>2017-10</th>\n",
       "      <th>2017-11</th>\n",
       "      <th>2017-12</th>\n",
       "      <th>2018-01</th>\n",
       "      <th>2018-02</th>\n",
       "      <th>2018-03</th>\n",
       "      <th>2018-04</th>\n",
       "      <th>roi</th>\n",
       "      <th>cagr</th>\n",
       "    </tr>\n",
       "  </thead>\n",
       "  <tbody>\n",
       "    <tr>\n",
       "      <th>0</th>\n",
       "      <td>60657</td>\n",
       "      <td>Chicago</td>\n",
       "      <td>IL</td>\n",
       "      <td>334200.0</td>\n",
       "      <td>335400.0</td>\n",
       "      <td>336500.0</td>\n",
       "      <td>337600.0</td>\n",
       "      <td>338500.0</td>\n",
       "      <td>339500.0</td>\n",
       "      <td>340400.0</td>\n",
       "      <td>...</td>\n",
       "      <td>1007800</td>\n",
       "      <td>1009600</td>\n",
       "      <td>1013300</td>\n",
       "      <td>1018700</td>\n",
       "      <td>1024400</td>\n",
       "      <td>1030700</td>\n",
       "      <td>1033800</td>\n",
       "      <td>1030600</td>\n",
       "      <td>19.130736</td>\n",
       "      <td>1.765925</td>\n",
       "    </tr>\n",
       "    <tr>\n",
       "      <th>1</th>\n",
       "      <td>75070</td>\n",
       "      <td>McKinney</td>\n",
       "      <td>TX</td>\n",
       "      <td>235700.0</td>\n",
       "      <td>236900.0</td>\n",
       "      <td>236700.0</td>\n",
       "      <td>235400.0</td>\n",
       "      <td>233300.0</td>\n",
       "      <td>230600.0</td>\n",
       "      <td>227300.0</td>\n",
       "      <td>...</td>\n",
       "      <td>312500</td>\n",
       "      <td>314100</td>\n",
       "      <td>315000</td>\n",
       "      <td>316600</td>\n",
       "      <td>318100</td>\n",
       "      <td>319600</td>\n",
       "      <td>321100</td>\n",
       "      <td>321800</td>\n",
       "      <td>52.367424</td>\n",
       "      <td>4.301178</td>\n",
       "    </tr>\n",
       "    <tr>\n",
       "      <th>2</th>\n",
       "      <td>77494</td>\n",
       "      <td>Katy</td>\n",
       "      <td>TX</td>\n",
       "      <td>210400.0</td>\n",
       "      <td>212200.0</td>\n",
       "      <td>212200.0</td>\n",
       "      <td>210700.0</td>\n",
       "      <td>208300.0</td>\n",
       "      <td>205500.0</td>\n",
       "      <td>202500.0</td>\n",
       "      <td>...</td>\n",
       "      <td>320200</td>\n",
       "      <td>320400</td>\n",
       "      <td>320800</td>\n",
       "      <td>321200</td>\n",
       "      <td>321200</td>\n",
       "      <td>323000</td>\n",
       "      <td>326900</td>\n",
       "      <td>329900</td>\n",
       "      <td>32.224449</td>\n",
       "      <td>2.832685</td>\n",
       "    </tr>\n",
       "    <tr>\n",
       "      <th>3</th>\n",
       "      <td>60614</td>\n",
       "      <td>Chicago</td>\n",
       "      <td>IL</td>\n",
       "      <td>498100.0</td>\n",
       "      <td>500900.0</td>\n",
       "      <td>503100.0</td>\n",
       "      <td>504600.0</td>\n",
       "      <td>505500.0</td>\n",
       "      <td>505700.0</td>\n",
       "      <td>505300.0</td>\n",
       "      <td>...</td>\n",
       "      <td>1287400</td>\n",
       "      <td>1291500</td>\n",
       "      <td>1296600</td>\n",
       "      <td>1299000</td>\n",
       "      <td>1302700</td>\n",
       "      <td>1306400</td>\n",
       "      <td>1308500</td>\n",
       "      <td>1307000</td>\n",
       "      <td>14.238266</td>\n",
       "      <td>1.340061</td>\n",
       "    </tr>\n",
       "    <tr>\n",
       "      <th>4</th>\n",
       "      <td>79936</td>\n",
       "      <td>El Paso</td>\n",
       "      <td>TX</td>\n",
       "      <td>77300.0</td>\n",
       "      <td>77300.0</td>\n",
       "      <td>77300.0</td>\n",
       "      <td>77300.0</td>\n",
       "      <td>77400.0</td>\n",
       "      <td>77500.0</td>\n",
       "      <td>77600.0</td>\n",
       "      <td>...</td>\n",
       "      <td>120000</td>\n",
       "      <td>120300</td>\n",
       "      <td>120300</td>\n",
       "      <td>120300</td>\n",
       "      <td>120300</td>\n",
       "      <td>120500</td>\n",
       "      <td>121000</td>\n",
       "      <td>121500</td>\n",
       "      <td>-5.300078</td>\n",
       "      <td>-0.543090</td>\n",
       "    </tr>\n",
       "  </tbody>\n",
       "</table>\n",
       "<p>5 rows × 270 columns</p>\n",
       "</div>"
      ],
      "text/plain": [
       "   ZipCode      City State   1996-04   1996-05   1996-06   1996-07   1996-08  \\\n",
       "0    60657   Chicago    IL  334200.0  335400.0  336500.0  337600.0  338500.0   \n",
       "1    75070  McKinney    TX  235700.0  236900.0  236700.0  235400.0  233300.0   \n",
       "2    77494      Katy    TX  210400.0  212200.0  212200.0  210700.0  208300.0   \n",
       "3    60614   Chicago    IL  498100.0  500900.0  503100.0  504600.0  505500.0   \n",
       "4    79936   El Paso    TX   77300.0   77300.0   77300.0   77300.0   77400.0   \n",
       "\n",
       "    1996-09   1996-10  ...  2017-09  2017-10  2017-11  2017-12  2018-01  \\\n",
       "0  339500.0  340400.0  ...  1007800  1009600  1013300  1018700  1024400   \n",
       "1  230600.0  227300.0  ...   312500   314100   315000   316600   318100   \n",
       "2  205500.0  202500.0  ...   320200   320400   320800   321200   321200   \n",
       "3  505700.0  505300.0  ...  1287400  1291500  1296600  1299000  1302700   \n",
       "4   77500.0   77600.0  ...   120000   120300   120300   120300   120300   \n",
       "\n",
       "   2018-02  2018-03  2018-04        roi      cagr  \n",
       "0  1030700  1033800  1030600  19.130736  1.765925  \n",
       "1   319600   321100   321800  52.367424  4.301178  \n",
       "2   323000   326900   329900  32.224449  2.832685  \n",
       "3  1306400  1308500  1307000  14.238266  1.340061  \n",
       "4   120500   121000   121500  -5.300078 -0.543090  \n",
       "\n",
       "[5 rows x 270 columns]"
      ]
     },
     "execution_count": 11,
     "metadata": {},
     "output_type": "execute_result"
    }
   ],
   "source": [
    "# copy the dataframe\n",
    "sample_data = data.copy()\n",
    "\n",
    "#add an roi column for the last 10 years\n",
    "sample_data[\"roi\"] = (sample_data[\"2018-04\"] - sample_data[\"2008-04\"]) / sample_data[\"2008-04\"] * 100\n",
    "\n",
    "# add cagr column for the last 10 years\n",
    "sample_data[\"cagr\"] = (((sample_data[\"2018-04\"] / sample_data[\"2008-04\"]) ** (1/10)) -1) * 100\n",
    "sample_data.head()"
   ]
  },
  {
   "cell_type": "markdown",
   "metadata": {},
   "source": [
    "We now choose the  best 5 zipcodes depending on the both the ROI and CAGR"
   ]
  },
  {
   "cell_type": "code",
   "execution_count": 12,
   "metadata": {},
   "outputs": [
    {
     "data": {
      "text/html": [
       "<div>\n",
       "<style scoped>\n",
       "    .dataframe tbody tr th:only-of-type {\n",
       "        vertical-align: middle;\n",
       "    }\n",
       "\n",
       "    .dataframe tbody tr th {\n",
       "        vertical-align: top;\n",
       "    }\n",
       "\n",
       "    .dataframe thead th {\n",
       "        text-align: right;\n",
       "    }\n",
       "</style>\n",
       "<table border=\"1\" class=\"dataframe\">\n",
       "  <thead>\n",
       "    <tr style=\"text-align: right;\">\n",
       "      <th></th>\n",
       "      <th>ZipCode</th>\n",
       "      <th>City</th>\n",
       "      <th>State</th>\n",
       "      <th>1996-04</th>\n",
       "      <th>1996-05</th>\n",
       "      <th>1996-06</th>\n",
       "      <th>1996-07</th>\n",
       "      <th>1996-08</th>\n",
       "      <th>1996-09</th>\n",
       "      <th>1996-10</th>\n",
       "      <th>...</th>\n",
       "      <th>2017-09</th>\n",
       "      <th>2017-10</th>\n",
       "      <th>2017-11</th>\n",
       "      <th>2017-12</th>\n",
       "      <th>2018-01</th>\n",
       "      <th>2018-02</th>\n",
       "      <th>2018-03</th>\n",
       "      <th>2018-04</th>\n",
       "      <th>roi</th>\n",
       "      <th>cagr</th>\n",
       "    </tr>\n",
       "  </thead>\n",
       "  <tbody>\n",
       "    <tr>\n",
       "      <th>6563</th>\n",
       "      <td>15201</td>\n",
       "      <td>Pittsburgh</td>\n",
       "      <td>PA</td>\n",
       "      <td>34400.0</td>\n",
       "      <td>34600.0</td>\n",
       "      <td>34700.0</td>\n",
       "      <td>34700.0</td>\n",
       "      <td>34800.0</td>\n",
       "      <td>34800.0</td>\n",
       "      <td>34700.0</td>\n",
       "      <td>...</td>\n",
       "      <td>166100</td>\n",
       "      <td>167600</td>\n",
       "      <td>169000</td>\n",
       "      <td>170400</td>\n",
       "      <td>171400</td>\n",
       "      <td>173900</td>\n",
       "      <td>179700</td>\n",
       "      <td>185200</td>\n",
       "      <td>166.474820</td>\n",
       "      <td>10.297487</td>\n",
       "    </tr>\n",
       "    <tr>\n",
       "      <th>2580</th>\n",
       "      <td>94043</td>\n",
       "      <td>Mountain View</td>\n",
       "      <td>CA</td>\n",
       "      <td>291700.0</td>\n",
       "      <td>294000.0</td>\n",
       "      <td>296400.0</td>\n",
       "      <td>298900.0</td>\n",
       "      <td>301400.0</td>\n",
       "      <td>304100.0</td>\n",
       "      <td>306800.0</td>\n",
       "      <td>...</td>\n",
       "      <td>1779800</td>\n",
       "      <td>1812000</td>\n",
       "      <td>1847800</td>\n",
       "      <td>1881900</td>\n",
       "      <td>1915700</td>\n",
       "      <td>1965600</td>\n",
       "      <td>2031800</td>\n",
       "      <td>2074900</td>\n",
       "      <td>160.110317</td>\n",
       "      <td>10.031177</td>\n",
       "    </tr>\n",
       "    <tr>\n",
       "      <th>1155</th>\n",
       "      <td>11222</td>\n",
       "      <td>New York</td>\n",
       "      <td>NY</td>\n",
       "      <td>149200.0</td>\n",
       "      <td>148400.0</td>\n",
       "      <td>147500.0</td>\n",
       "      <td>146600.0</td>\n",
       "      <td>146000.0</td>\n",
       "      <td>145600.0</td>\n",
       "      <td>145400.0</td>\n",
       "      <td>...</td>\n",
       "      <td>1638700</td>\n",
       "      <td>1640400</td>\n",
       "      <td>1644100</td>\n",
       "      <td>1651200</td>\n",
       "      <td>1661800</td>\n",
       "      <td>1672800</td>\n",
       "      <td>1694000</td>\n",
       "      <td>1721100</td>\n",
       "      <td>157.611136</td>\n",
       "      <td>9.924997</td>\n",
       "    </tr>\n",
       "    <tr>\n",
       "      <th>5738</th>\n",
       "      <td>94301</td>\n",
       "      <td>Palo Alto</td>\n",
       "      <td>CA</td>\n",
       "      <td>709500.0</td>\n",
       "      <td>711900.0</td>\n",
       "      <td>715000.0</td>\n",
       "      <td>719000.0</td>\n",
       "      <td>723900.0</td>\n",
       "      <td>729800.0</td>\n",
       "      <td>736900.0</td>\n",
       "      <td>...</td>\n",
       "      <td>4319300</td>\n",
       "      <td>4401100</td>\n",
       "      <td>4481700</td>\n",
       "      <td>4544700</td>\n",
       "      <td>4595100</td>\n",
       "      <td>4668700</td>\n",
       "      <td>4762600</td>\n",
       "      <td>4818400</td>\n",
       "      <td>156.475222</td>\n",
       "      <td>9.876430</td>\n",
       "    </tr>\n",
       "    <tr>\n",
       "      <th>117</th>\n",
       "      <td>11211</td>\n",
       "      <td>New York</td>\n",
       "      <td>NY</td>\n",
       "      <td>133200.0</td>\n",
       "      <td>132900.0</td>\n",
       "      <td>132500.0</td>\n",
       "      <td>132200.0</td>\n",
       "      <td>131800.0</td>\n",
       "      <td>131600.0</td>\n",
       "      <td>131500.0</td>\n",
       "      <td>...</td>\n",
       "      <td>1424700</td>\n",
       "      <td>1435300</td>\n",
       "      <td>1440500</td>\n",
       "      <td>1463100</td>\n",
       "      <td>1496100</td>\n",
       "      <td>1531100</td>\n",
       "      <td>1581900</td>\n",
       "      <td>1623700</td>\n",
       "      <td>147.968845</td>\n",
       "      <td>9.506453</td>\n",
       "    </tr>\n",
       "  </tbody>\n",
       "</table>\n",
       "<p>5 rows × 270 columns</p>\n",
       "</div>"
      ],
      "text/plain": [
       "      ZipCode           City State   1996-04   1996-05   1996-06   1996-07  \\\n",
       "6563    15201     Pittsburgh    PA   34400.0   34600.0   34700.0   34700.0   \n",
       "2580    94043  Mountain View    CA  291700.0  294000.0  296400.0  298900.0   \n",
       "1155    11222       New York    NY  149200.0  148400.0  147500.0  146600.0   \n",
       "5738    94301      Palo Alto    CA  709500.0  711900.0  715000.0  719000.0   \n",
       "117     11211       New York    NY  133200.0  132900.0  132500.0  132200.0   \n",
       "\n",
       "       1996-08   1996-09   1996-10  ...  2017-09  2017-10  2017-11  2017-12  \\\n",
       "6563   34800.0   34800.0   34700.0  ...   166100   167600   169000   170400   \n",
       "2580  301400.0  304100.0  306800.0  ...  1779800  1812000  1847800  1881900   \n",
       "1155  146000.0  145600.0  145400.0  ...  1638700  1640400  1644100  1651200   \n",
       "5738  723900.0  729800.0  736900.0  ...  4319300  4401100  4481700  4544700   \n",
       "117   131800.0  131600.0  131500.0  ...  1424700  1435300  1440500  1463100   \n",
       "\n",
       "      2018-01  2018-02  2018-03  2018-04         roi       cagr  \n",
       "6563   171400   173900   179700   185200  166.474820  10.297487  \n",
       "2580  1915700  1965600  2031800  2074900  160.110317  10.031177  \n",
       "1155  1661800  1672800  1694000  1721100  157.611136   9.924997  \n",
       "5738  4595100  4668700  4762600  4818400  156.475222   9.876430  \n",
       "117   1496100  1531100  1581900  1623700  147.968845   9.506453  \n",
       "\n",
       "[5 rows x 270 columns]"
      ]
     },
     "execution_count": 12,
     "metadata": {},
     "output_type": "execute_result"
    }
   ],
   "source": [
    "# Top 5 based on ROI\n",
    "top_5_roi = sample_data.nlargest(5, 'roi')\n",
    "\n",
    "top_5_roi\n"
   ]
  },
  {
   "cell_type": "code",
   "execution_count": 13,
   "metadata": {},
   "outputs": [
    {
     "data": {
      "text/html": [
       "<div>\n",
       "<style scoped>\n",
       "    .dataframe tbody tr th:only-of-type {\n",
       "        vertical-align: middle;\n",
       "    }\n",
       "\n",
       "    .dataframe tbody tr th {\n",
       "        vertical-align: top;\n",
       "    }\n",
       "\n",
       "    .dataframe thead th {\n",
       "        text-align: right;\n",
       "    }\n",
       "</style>\n",
       "<table border=\"1\" class=\"dataframe\">\n",
       "  <thead>\n",
       "    <tr style=\"text-align: right;\">\n",
       "      <th></th>\n",
       "      <th>ZipCode</th>\n",
       "      <th>City</th>\n",
       "      <th>State</th>\n",
       "      <th>1996-04</th>\n",
       "      <th>1996-05</th>\n",
       "      <th>1996-06</th>\n",
       "      <th>1996-07</th>\n",
       "      <th>1996-08</th>\n",
       "      <th>1996-09</th>\n",
       "      <th>1996-10</th>\n",
       "      <th>...</th>\n",
       "      <th>2017-09</th>\n",
       "      <th>2017-10</th>\n",
       "      <th>2017-11</th>\n",
       "      <th>2017-12</th>\n",
       "      <th>2018-01</th>\n",
       "      <th>2018-02</th>\n",
       "      <th>2018-03</th>\n",
       "      <th>2018-04</th>\n",
       "      <th>roi</th>\n",
       "      <th>cagr</th>\n",
       "    </tr>\n",
       "  </thead>\n",
       "  <tbody>\n",
       "    <tr>\n",
       "      <th>6563</th>\n",
       "      <td>15201</td>\n",
       "      <td>Pittsburgh</td>\n",
       "      <td>PA</td>\n",
       "      <td>34400.0</td>\n",
       "      <td>34600.0</td>\n",
       "      <td>34700.0</td>\n",
       "      <td>34700.0</td>\n",
       "      <td>34800.0</td>\n",
       "      <td>34800.0</td>\n",
       "      <td>34700.0</td>\n",
       "      <td>...</td>\n",
       "      <td>166100</td>\n",
       "      <td>167600</td>\n",
       "      <td>169000</td>\n",
       "      <td>170400</td>\n",
       "      <td>171400</td>\n",
       "      <td>173900</td>\n",
       "      <td>179700</td>\n",
       "      <td>185200</td>\n",
       "      <td>166.474820</td>\n",
       "      <td>10.297487</td>\n",
       "    </tr>\n",
       "    <tr>\n",
       "      <th>2580</th>\n",
       "      <td>94043</td>\n",
       "      <td>Mountain View</td>\n",
       "      <td>CA</td>\n",
       "      <td>291700.0</td>\n",
       "      <td>294000.0</td>\n",
       "      <td>296400.0</td>\n",
       "      <td>298900.0</td>\n",
       "      <td>301400.0</td>\n",
       "      <td>304100.0</td>\n",
       "      <td>306800.0</td>\n",
       "      <td>...</td>\n",
       "      <td>1779800</td>\n",
       "      <td>1812000</td>\n",
       "      <td>1847800</td>\n",
       "      <td>1881900</td>\n",
       "      <td>1915700</td>\n",
       "      <td>1965600</td>\n",
       "      <td>2031800</td>\n",
       "      <td>2074900</td>\n",
       "      <td>160.110317</td>\n",
       "      <td>10.031177</td>\n",
       "    </tr>\n",
       "    <tr>\n",
       "      <th>1155</th>\n",
       "      <td>11222</td>\n",
       "      <td>New York</td>\n",
       "      <td>NY</td>\n",
       "      <td>149200.0</td>\n",
       "      <td>148400.0</td>\n",
       "      <td>147500.0</td>\n",
       "      <td>146600.0</td>\n",
       "      <td>146000.0</td>\n",
       "      <td>145600.0</td>\n",
       "      <td>145400.0</td>\n",
       "      <td>...</td>\n",
       "      <td>1638700</td>\n",
       "      <td>1640400</td>\n",
       "      <td>1644100</td>\n",
       "      <td>1651200</td>\n",
       "      <td>1661800</td>\n",
       "      <td>1672800</td>\n",
       "      <td>1694000</td>\n",
       "      <td>1721100</td>\n",
       "      <td>157.611136</td>\n",
       "      <td>9.924997</td>\n",
       "    </tr>\n",
       "    <tr>\n",
       "      <th>5738</th>\n",
       "      <td>94301</td>\n",
       "      <td>Palo Alto</td>\n",
       "      <td>CA</td>\n",
       "      <td>709500.0</td>\n",
       "      <td>711900.0</td>\n",
       "      <td>715000.0</td>\n",
       "      <td>719000.0</td>\n",
       "      <td>723900.0</td>\n",
       "      <td>729800.0</td>\n",
       "      <td>736900.0</td>\n",
       "      <td>...</td>\n",
       "      <td>4319300</td>\n",
       "      <td>4401100</td>\n",
       "      <td>4481700</td>\n",
       "      <td>4544700</td>\n",
       "      <td>4595100</td>\n",
       "      <td>4668700</td>\n",
       "      <td>4762600</td>\n",
       "      <td>4818400</td>\n",
       "      <td>156.475222</td>\n",
       "      <td>9.876430</td>\n",
       "    </tr>\n",
       "    <tr>\n",
       "      <th>117</th>\n",
       "      <td>11211</td>\n",
       "      <td>New York</td>\n",
       "      <td>NY</td>\n",
       "      <td>133200.0</td>\n",
       "      <td>132900.0</td>\n",
       "      <td>132500.0</td>\n",
       "      <td>132200.0</td>\n",
       "      <td>131800.0</td>\n",
       "      <td>131600.0</td>\n",
       "      <td>131500.0</td>\n",
       "      <td>...</td>\n",
       "      <td>1424700</td>\n",
       "      <td>1435300</td>\n",
       "      <td>1440500</td>\n",
       "      <td>1463100</td>\n",
       "      <td>1496100</td>\n",
       "      <td>1531100</td>\n",
       "      <td>1581900</td>\n",
       "      <td>1623700</td>\n",
       "      <td>147.968845</td>\n",
       "      <td>9.506453</td>\n",
       "    </tr>\n",
       "  </tbody>\n",
       "</table>\n",
       "<p>5 rows × 270 columns</p>\n",
       "</div>"
      ],
      "text/plain": [
       "      ZipCode           City State   1996-04   1996-05   1996-06   1996-07  \\\n",
       "6563    15201     Pittsburgh    PA   34400.0   34600.0   34700.0   34700.0   \n",
       "2580    94043  Mountain View    CA  291700.0  294000.0  296400.0  298900.0   \n",
       "1155    11222       New York    NY  149200.0  148400.0  147500.0  146600.0   \n",
       "5738    94301      Palo Alto    CA  709500.0  711900.0  715000.0  719000.0   \n",
       "117     11211       New York    NY  133200.0  132900.0  132500.0  132200.0   \n",
       "\n",
       "       1996-08   1996-09   1996-10  ...  2017-09  2017-10  2017-11  2017-12  \\\n",
       "6563   34800.0   34800.0   34700.0  ...   166100   167600   169000   170400   \n",
       "2580  301400.0  304100.0  306800.0  ...  1779800  1812000  1847800  1881900   \n",
       "1155  146000.0  145600.0  145400.0  ...  1638700  1640400  1644100  1651200   \n",
       "5738  723900.0  729800.0  736900.0  ...  4319300  4401100  4481700  4544700   \n",
       "117   131800.0  131600.0  131500.0  ...  1424700  1435300  1440500  1463100   \n",
       "\n",
       "      2018-01  2018-02  2018-03  2018-04         roi       cagr  \n",
       "6563   171400   173900   179700   185200  166.474820  10.297487  \n",
       "2580  1915700  1965600  2031800  2074900  160.110317  10.031177  \n",
       "1155  1661800  1672800  1694000  1721100  157.611136   9.924997  \n",
       "5738  4595100  4668700  4762600  4818400  156.475222   9.876430  \n",
       "117   1496100  1531100  1581900  1623700  147.968845   9.506453  \n",
       "\n",
       "[5 rows x 270 columns]"
      ]
     },
     "execution_count": 13,
     "metadata": {},
     "output_type": "execute_result"
    }
   ],
   "source": [
    "# Top 5 based on CAGR\n",
    "top_5_cagr = sample_data.nlargest(5, 'cagr')\n",
    "\n",
    "top_5_cagr"
   ]
  },
  {
   "cell_type": "markdown",
   "metadata": {},
   "source": [
    "The zipcodes with the best roi are still the zipcodes with the best cagr. "
   ]
  },
  {
   "cell_type": "markdown",
   "metadata": {},
   "source": [
    "#### CONVERTING THE DATASET TO WIDE FORMAT"
   ]
  },
  {
   "cell_type": "markdown",
   "metadata": {},
   "source": [
    "We will convert the dataset to a wide format and make the time column the index for easier manipulation of the dataframe. "
   ]
  },
  {
   "cell_type": "code",
   "execution_count": 14,
   "metadata": {},
   "outputs": [
    {
     "data": {
      "text/html": [
       "<div>\n",
       "<style scoped>\n",
       "    .dataframe tbody tr th:only-of-type {\n",
       "        vertical-align: middle;\n",
       "    }\n",
       "\n",
       "    .dataframe tbody tr th {\n",
       "        vertical-align: top;\n",
       "    }\n",
       "\n",
       "    .dataframe thead th {\n",
       "        text-align: right;\n",
       "    }\n",
       "</style>\n",
       "<table border=\"1\" class=\"dataframe\">\n",
       "  <thead>\n",
       "    <tr style=\"text-align: right;\">\n",
       "      <th></th>\n",
       "      <th>ZipCode</th>\n",
       "      <th>City</th>\n",
       "      <th>State</th>\n",
       "      <th>1996-04</th>\n",
       "      <th>1996-05</th>\n",
       "      <th>1996-06</th>\n",
       "      <th>1996-07</th>\n",
       "      <th>1996-08</th>\n",
       "      <th>1996-09</th>\n",
       "      <th>1996-10</th>\n",
       "      <th>...</th>\n",
       "      <th>2017-07</th>\n",
       "      <th>2017-08</th>\n",
       "      <th>2017-09</th>\n",
       "      <th>2017-10</th>\n",
       "      <th>2017-11</th>\n",
       "      <th>2017-12</th>\n",
       "      <th>2018-01</th>\n",
       "      <th>2018-02</th>\n",
       "      <th>2018-03</th>\n",
       "      <th>2018-04</th>\n",
       "    </tr>\n",
       "  </thead>\n",
       "  <tbody>\n",
       "    <tr>\n",
       "      <th>0</th>\n",
       "      <td>60657</td>\n",
       "      <td>Chicago</td>\n",
       "      <td>IL</td>\n",
       "      <td>334200.0</td>\n",
       "      <td>335400.0</td>\n",
       "      <td>336500.0</td>\n",
       "      <td>337600.0</td>\n",
       "      <td>338500.0</td>\n",
       "      <td>339500.0</td>\n",
       "      <td>340400.0</td>\n",
       "      <td>...</td>\n",
       "      <td>1005500</td>\n",
       "      <td>1007500</td>\n",
       "      <td>1007800</td>\n",
       "      <td>1009600</td>\n",
       "      <td>1013300</td>\n",
       "      <td>1018700</td>\n",
       "      <td>1024400</td>\n",
       "      <td>1030700</td>\n",
       "      <td>1033800</td>\n",
       "      <td>1030600</td>\n",
       "    </tr>\n",
       "    <tr>\n",
       "      <th>1</th>\n",
       "      <td>75070</td>\n",
       "      <td>McKinney</td>\n",
       "      <td>TX</td>\n",
       "      <td>235700.0</td>\n",
       "      <td>236900.0</td>\n",
       "      <td>236700.0</td>\n",
       "      <td>235400.0</td>\n",
       "      <td>233300.0</td>\n",
       "      <td>230600.0</td>\n",
       "      <td>227300.0</td>\n",
       "      <td>...</td>\n",
       "      <td>308000</td>\n",
       "      <td>310000</td>\n",
       "      <td>312500</td>\n",
       "      <td>314100</td>\n",
       "      <td>315000</td>\n",
       "      <td>316600</td>\n",
       "      <td>318100</td>\n",
       "      <td>319600</td>\n",
       "      <td>321100</td>\n",
       "      <td>321800</td>\n",
       "    </tr>\n",
       "    <tr>\n",
       "      <th>2</th>\n",
       "      <td>77494</td>\n",
       "      <td>Katy</td>\n",
       "      <td>TX</td>\n",
       "      <td>210400.0</td>\n",
       "      <td>212200.0</td>\n",
       "      <td>212200.0</td>\n",
       "      <td>210700.0</td>\n",
       "      <td>208300.0</td>\n",
       "      <td>205500.0</td>\n",
       "      <td>202500.0</td>\n",
       "      <td>...</td>\n",
       "      <td>321000</td>\n",
       "      <td>320600</td>\n",
       "      <td>320200</td>\n",
       "      <td>320400</td>\n",
       "      <td>320800</td>\n",
       "      <td>321200</td>\n",
       "      <td>321200</td>\n",
       "      <td>323000</td>\n",
       "      <td>326900</td>\n",
       "      <td>329900</td>\n",
       "    </tr>\n",
       "    <tr>\n",
       "      <th>3</th>\n",
       "      <td>60614</td>\n",
       "      <td>Chicago</td>\n",
       "      <td>IL</td>\n",
       "      <td>498100.0</td>\n",
       "      <td>500900.0</td>\n",
       "      <td>503100.0</td>\n",
       "      <td>504600.0</td>\n",
       "      <td>505500.0</td>\n",
       "      <td>505700.0</td>\n",
       "      <td>505300.0</td>\n",
       "      <td>...</td>\n",
       "      <td>1289800</td>\n",
       "      <td>1287700</td>\n",
       "      <td>1287400</td>\n",
       "      <td>1291500</td>\n",
       "      <td>1296600</td>\n",
       "      <td>1299000</td>\n",
       "      <td>1302700</td>\n",
       "      <td>1306400</td>\n",
       "      <td>1308500</td>\n",
       "      <td>1307000</td>\n",
       "    </tr>\n",
       "    <tr>\n",
       "      <th>4</th>\n",
       "      <td>79936</td>\n",
       "      <td>El Paso</td>\n",
       "      <td>TX</td>\n",
       "      <td>77300.0</td>\n",
       "      <td>77300.0</td>\n",
       "      <td>77300.0</td>\n",
       "      <td>77300.0</td>\n",
       "      <td>77400.0</td>\n",
       "      <td>77500.0</td>\n",
       "      <td>77600.0</td>\n",
       "      <td>...</td>\n",
       "      <td>119100</td>\n",
       "      <td>119400</td>\n",
       "      <td>120000</td>\n",
       "      <td>120300</td>\n",
       "      <td>120300</td>\n",
       "      <td>120300</td>\n",
       "      <td>120300</td>\n",
       "      <td>120500</td>\n",
       "      <td>121000</td>\n",
       "      <td>121500</td>\n",
       "    </tr>\n",
       "  </tbody>\n",
       "</table>\n",
       "<p>5 rows × 268 columns</p>\n",
       "</div>"
      ],
      "text/plain": [
       "   ZipCode      City State   1996-04   1996-05   1996-06   1996-07   1996-08  \\\n",
       "0    60657   Chicago    IL  334200.0  335400.0  336500.0  337600.0  338500.0   \n",
       "1    75070  McKinney    TX  235700.0  236900.0  236700.0  235400.0  233300.0   \n",
       "2    77494      Katy    TX  210400.0  212200.0  212200.0  210700.0  208300.0   \n",
       "3    60614   Chicago    IL  498100.0  500900.0  503100.0  504600.0  505500.0   \n",
       "4    79936   El Paso    TX   77300.0   77300.0   77300.0   77300.0   77400.0   \n",
       "\n",
       "    1996-09   1996-10  ...  2017-07  2017-08  2017-09  2017-10  2017-11  \\\n",
       "0  339500.0  340400.0  ...  1005500  1007500  1007800  1009600  1013300   \n",
       "1  230600.0  227300.0  ...   308000   310000   312500   314100   315000   \n",
       "2  205500.0  202500.0  ...   321000   320600   320200   320400   320800   \n",
       "3  505700.0  505300.0  ...  1289800  1287700  1287400  1291500  1296600   \n",
       "4   77500.0   77600.0  ...   119100   119400   120000   120300   120300   \n",
       "\n",
       "   2017-12  2018-01  2018-02  2018-03  2018-04  \n",
       "0  1018700  1024400  1030700  1033800  1030600  \n",
       "1   316600   318100   319600   321100   321800  \n",
       "2   321200   321200   323000   326900   329900  \n",
       "3  1299000  1302700  1306400  1308500  1307000  \n",
       "4   120300   120300   120500   121000   121500  \n",
       "\n",
       "[5 rows x 268 columns]"
      ]
     },
     "execution_count": 14,
     "metadata": {},
     "output_type": "execute_result"
    }
   ],
   "source": [
    "# As seen below, the data is in a wide format,   we need to convert the data to a long format\n",
    "data.head()"
   ]
  },
  {
   "cell_type": "code",
   "execution_count": 15,
   "metadata": {},
   "outputs": [
    {
     "data": {
      "text/html": [
       "<div>\n",
       "<style scoped>\n",
       "    .dataframe tbody tr th:only-of-type {\n",
       "        vertical-align: middle;\n",
       "    }\n",
       "\n",
       "    .dataframe tbody tr th {\n",
       "        vertical-align: top;\n",
       "    }\n",
       "\n",
       "    .dataframe thead th {\n",
       "        text-align: right;\n",
       "    }\n",
       "</style>\n",
       "<table border=\"1\" class=\"dataframe\">\n",
       "  <thead>\n",
       "    <tr style=\"text-align: right;\">\n",
       "      <th></th>\n",
       "      <th>value</th>\n",
       "    </tr>\n",
       "    <tr>\n",
       "      <th>time</th>\n",
       "      <th></th>\n",
       "    </tr>\n",
       "  </thead>\n",
       "  <tbody>\n",
       "    <tr>\n",
       "      <th>1996-04-01</th>\n",
       "      <td>118299.123063</td>\n",
       "    </tr>\n",
       "    <tr>\n",
       "      <th>1996-05-01</th>\n",
       "      <td>118419.044139</td>\n",
       "    </tr>\n",
       "    <tr>\n",
       "      <th>1996-06-01</th>\n",
       "      <td>118537.423268</td>\n",
       "    </tr>\n",
       "    <tr>\n",
       "      <th>1996-07-01</th>\n",
       "      <td>118653.069278</td>\n",
       "    </tr>\n",
       "    <tr>\n",
       "      <th>1996-08-01</th>\n",
       "      <td>118780.254312</td>\n",
       "    </tr>\n",
       "  </tbody>\n",
       "</table>\n",
       "</div>"
      ],
      "text/plain": [
       "                    value\n",
       "time                     \n",
       "1996-04-01  118299.123063\n",
       "1996-05-01  118419.044139\n",
       "1996-06-01  118537.423268\n",
       "1996-07-01  118653.069278\n",
       "1996-08-01  118780.254312"
      ]
     },
     "execution_count": 15,
     "metadata": {},
     "output_type": "execute_result"
    }
   ],
   "source": [
    "def melt_data(df):\n",
    "    \"\"\"\n",
    "    Takes the zillow_data dataset in wide form or a subset of the zillow_dataset.  \n",
    "    Returns a long-form datetime dataframe \n",
    "    with the datetime column names as the index and the values as the 'values' column.\n",
    "    \n",
    "    If more than one row is passes in the wide-form dataset, the values column\n",
    "    will be the mean of the values from the datetime columns in all of the rows.\n",
    "    \"\"\"\n",
    "    \n",
    "    melted = pd.melt(df, id_vars=['ZipCode', 'City', 'State'], var_name='time')\n",
    "    melted['time'] = pd.to_datetime(melted['time'], infer_datetime_format=True)\n",
    "    melted = melted.dropna(subset=['value'])\n",
    "    melted.set_index(\"time\", inplace=True)\n",
    "    melted_data = melted.groupby(\"time\").aggregate({'value' : 'mean'})\n",
    "    return melted_data\n",
    "\n",
    "melted_data = melt_data(data) \n",
    "melted_data.head()\n"
   ]
  },
  {
   "cell_type": "markdown",
   "metadata": {},
   "source": [
    "We now have the long format of our time series data. Additionally, the data is now aggregated in months.  "
   ]
  },
  {
   "cell_type": "code",
   "execution_count": 16,
   "metadata": {},
   "outputs": [
    {
     "data": {
      "text/html": [
       "<div>\n",
       "<style scoped>\n",
       "    .dataframe tbody tr th:only-of-type {\n",
       "        vertical-align: middle;\n",
       "    }\n",
       "\n",
       "    .dataframe tbody tr th {\n",
       "        vertical-align: top;\n",
       "    }\n",
       "\n",
       "    .dataframe thead th {\n",
       "        text-align: right;\n",
       "    }\n",
       "</style>\n",
       "<table border=\"1\" class=\"dataframe\">\n",
       "  <thead>\n",
       "    <tr style=\"text-align: right;\">\n",
       "      <th></th>\n",
       "      <th>value</th>\n",
       "    </tr>\n",
       "  </thead>\n",
       "  <tbody>\n",
       "    <tr>\n",
       "      <th>count</th>\n",
       "      <td>265.000000</td>\n",
       "    </tr>\n",
       "    <tr>\n",
       "      <th>mean</th>\n",
       "      <td>208049.936905</td>\n",
       "    </tr>\n",
       "    <tr>\n",
       "      <th>std</th>\n",
       "      <td>48821.725343</td>\n",
       "    </tr>\n",
       "    <tr>\n",
       "      <th>min</th>\n",
       "      <td>118299.123063</td>\n",
       "    </tr>\n",
       "    <tr>\n",
       "      <th>25%</th>\n",
       "      <td>168655.042385</td>\n",
       "    </tr>\n",
       "    <tr>\n",
       "      <th>50%</th>\n",
       "      <td>216703.719673</td>\n",
       "    </tr>\n",
       "    <tr>\n",
       "      <th>75%</th>\n",
       "      <td>248048.589594</td>\n",
       "    </tr>\n",
       "    <tr>\n",
       "      <th>max</th>\n",
       "      <td>293867.553347</td>\n",
       "    </tr>\n",
       "  </tbody>\n",
       "</table>\n",
       "</div>"
      ],
      "text/plain": [
       "               value\n",
       "count     265.000000\n",
       "mean   208049.936905\n",
       "std     48821.725343\n",
       "min    118299.123063\n",
       "25%    168655.042385\n",
       "50%    216703.719673\n",
       "75%    248048.589594\n",
       "max    293867.553347"
      ]
     },
     "execution_count": 16,
     "metadata": {},
     "output_type": "execute_result"
    }
   ],
   "source": [
    "#  check the home prices summary statistics \n",
    "melted_data.describe()"
   ]
  },
  {
   "cell_type": "markdown",
   "metadata": {},
   "source": [
    "The average home price is  $ 208049 for the past 22 years. \n",
    "This is with a standard deviation of 48821 over the same period"
   ]
  },
  {
   "cell_type": "markdown",
   "metadata": {},
   "source": [
    "Let's get our best 5 zipcodes"
   ]
  },
  {
   "cell_type": "code",
   "execution_count": 17,
   "metadata": {},
   "outputs": [
    {
     "data": {
      "text/html": [
       "<div>\n",
       "<style scoped>\n",
       "    .dataframe tbody tr th:only-of-type {\n",
       "        vertical-align: middle;\n",
       "    }\n",
       "\n",
       "    .dataframe tbody tr th {\n",
       "        vertical-align: top;\n",
       "    }\n",
       "\n",
       "    .dataframe thead th {\n",
       "        text-align: right;\n",
       "    }\n",
       "</style>\n",
       "<table border=\"1\" class=\"dataframe\">\n",
       "  <thead>\n",
       "    <tr style=\"text-align: right;\">\n",
       "      <th></th>\n",
       "      <th>ZipCode</th>\n",
       "      <th>City</th>\n",
       "      <th>State</th>\n",
       "      <th>value</th>\n",
       "    </tr>\n",
       "    <tr>\n",
       "      <th>time</th>\n",
       "      <th></th>\n",
       "      <th></th>\n",
       "      <th></th>\n",
       "      <th></th>\n",
       "    </tr>\n",
       "  </thead>\n",
       "  <tbody>\n",
       "    <tr>\n",
       "      <th>1996-04-01</th>\n",
       "      <td>11211</td>\n",
       "      <td>New York</td>\n",
       "      <td>NY</td>\n",
       "      <td>133200.0</td>\n",
       "    </tr>\n",
       "    <tr>\n",
       "      <th>1996-04-01</th>\n",
       "      <td>11222</td>\n",
       "      <td>New York</td>\n",
       "      <td>NY</td>\n",
       "      <td>149200.0</td>\n",
       "    </tr>\n",
       "    <tr>\n",
       "      <th>1996-04-01</th>\n",
       "      <td>94043</td>\n",
       "      <td>Mountain View</td>\n",
       "      <td>CA</td>\n",
       "      <td>291700.0</td>\n",
       "    </tr>\n",
       "    <tr>\n",
       "      <th>1996-04-01</th>\n",
       "      <td>94301</td>\n",
       "      <td>Palo Alto</td>\n",
       "      <td>CA</td>\n",
       "      <td>709500.0</td>\n",
       "    </tr>\n",
       "    <tr>\n",
       "      <th>1996-04-01</th>\n",
       "      <td>15201</td>\n",
       "      <td>Pittsburgh</td>\n",
       "      <td>PA</td>\n",
       "      <td>34400.0</td>\n",
       "    </tr>\n",
       "    <tr>\n",
       "      <th>...</th>\n",
       "      <td>...</td>\n",
       "      <td>...</td>\n",
       "      <td>...</td>\n",
       "      <td>...</td>\n",
       "    </tr>\n",
       "    <tr>\n",
       "      <th>2018-04-01</th>\n",
       "      <td>11211</td>\n",
       "      <td>New York</td>\n",
       "      <td>NY</td>\n",
       "      <td>1623700.0</td>\n",
       "    </tr>\n",
       "    <tr>\n",
       "      <th>2018-04-01</th>\n",
       "      <td>11222</td>\n",
       "      <td>New York</td>\n",
       "      <td>NY</td>\n",
       "      <td>1721100.0</td>\n",
       "    </tr>\n",
       "    <tr>\n",
       "      <th>2018-04-01</th>\n",
       "      <td>94043</td>\n",
       "      <td>Mountain View</td>\n",
       "      <td>CA</td>\n",
       "      <td>2074900.0</td>\n",
       "    </tr>\n",
       "    <tr>\n",
       "      <th>2018-04-01</th>\n",
       "      <td>94301</td>\n",
       "      <td>Palo Alto</td>\n",
       "      <td>CA</td>\n",
       "      <td>4818400.0</td>\n",
       "    </tr>\n",
       "    <tr>\n",
       "      <th>2018-04-01</th>\n",
       "      <td>15201</td>\n",
       "      <td>Pittsburgh</td>\n",
       "      <td>PA</td>\n",
       "      <td>185200.0</td>\n",
       "    </tr>\n",
       "  </tbody>\n",
       "</table>\n",
       "<p>1325 rows × 4 columns</p>\n",
       "</div>"
      ],
      "text/plain": [
       "            ZipCode           City State      value\n",
       "time                                               \n",
       "1996-04-01    11211       New York    NY   133200.0\n",
       "1996-04-01    11222       New York    NY   149200.0\n",
       "1996-04-01    94043  Mountain View    CA   291700.0\n",
       "1996-04-01    94301      Palo Alto    CA   709500.0\n",
       "1996-04-01    15201     Pittsburgh    PA    34400.0\n",
       "...             ...            ...   ...        ...\n",
       "2018-04-01    11211       New York    NY  1623700.0\n",
       "2018-04-01    11222       New York    NY  1721100.0\n",
       "2018-04-01    94043  Mountain View    CA  2074900.0\n",
       "2018-04-01    94301      Palo Alto    CA  4818400.0\n",
       "2018-04-01    15201     Pittsburgh    PA   185200.0\n",
       "\n",
       "[1325 rows x 4 columns]"
      ]
     },
     "execution_count": 17,
     "metadata": {},
     "output_type": "execute_result"
    }
   ],
   "source": [
    "def melt_data2(df):\n",
    "    melted = pd.melt(df, id_vars=['ZipCode', 'City', 'State'], var_name='time')\n",
    "    melted['time'] = pd.to_datetime(melted['time'], infer_datetime_format=True)\n",
    "    melted = melted.dropna(subset=['value'])\n",
    "    melted.set_index(\"time\", inplace=True)\n",
    "    return melted\n",
    "\n",
    "melted_data2 = melt_data2(data) \n",
    "melted_data2.head()\n",
    "# Get every time series entry whose zipcode is our top 5 zipcodes.\n",
    "\n",
    "bet_5_zipcodes_df = melted_data2[melted_data2[\"ZipCode\"].isin(list(top_5_cagr[\"ZipCode\"]))]\n",
    "bet_5_zipcodes_df"
   ]
  },
  {
   "cell_type": "markdown",
   "metadata": {},
   "source": [
    "### EDA AND DATA VISUALIZATION."
   ]
  },
  {
   "cell_type": "markdown",
   "metadata": {},
   "source": [
    "What is the trend of the average home prices in our dataset?\n",
    "We will plot the time series of the home prices mean over the years, 1996 - 2018"
   ]
  },
  {
   "cell_type": "markdown",
   "metadata": {},
   "source": [
    "We can check the states where these best 5 zipcodes are found"
   ]
  },
  {
   "cell_type": "code",
   "execution_count": 18,
   "metadata": {},
   "outputs": [
    {
     "data": {
      "image/png": "[encoded data removed]",
      "text/plain": [
       "<Figure size 432x288 with 1 Axes>"
      ]
     },
     "metadata": {
      "needs_background": "light"
     },
     "output_type": "display_data"
    }
   ],
   "source": [
    "state_counts = top_5_cagr[\"State\"].value_counts()\n",
    "\n",
    "# Plot the bar chart\n",
    "state_counts.plot(kind='bar', rot=0, color='skyblue')\n",
    "plt.xlabel('State')\n",
    "plt.ylabel('Count')\n",
    "plt.title('Bar Chart of States')\n",
    "plt.show()"
   ]
  },
  {
   "cell_type": "markdown",
   "metadata": {},
   "source": [
    "Our best zipcodes are found in only three states.           \n",
    "There are two zipcodes from both CA and NY while PA has one zip code. "
   ]
  },
  {
   "cell_type": "markdown",
   "metadata": {},
   "source": [
    "We can plot the time series plot of the best    5 zipcodes. "
   ]
  },
  {
   "cell_type": "code",
   "execution_count": 19,
   "metadata": {},
   "outputs": [
    {
     "data": {
      "image/png": "[encoded data removed]",
      "text/plain": [
       "<Figure size 864x576 with 1 Axes>"
      ]
     },
     "metadata": {
      "needs_background": "light"
     },
     "output_type": "display_data"
    },
    {
     "data": {
      "text/plain": [
       "time\n",
       "1996-04-01     133200.0\n",
       "1996-05-01     132900.0\n",
       "1996-06-01     132500.0\n",
       "1996-07-01     132200.0\n",
       "1996-08-01     131800.0\n",
       "                ...    \n",
       "2017-12-01    1463100.0\n",
       "2018-01-01    1496100.0\n",
       "2018-02-01    1531100.0\n",
       "2018-03-01    1581900.0\n",
       "2018-04-01    1623700.0\n",
       "Name: value, Length: 265, dtype: float64"
      ]
     },
     "execution_count": 19,
     "metadata": {},
     "output_type": "execute_result"
    }
   ],
   "source": [
    "bet_5_zipcodes_list = top_5_cagr[\"ZipCode\"].unique()\n",
    "plt.figure(figsize=(12, 8))\n",
    "\n",
    "for zipcode in bet_5_zipcodes_list:\n",
    "    time_data = bet_5_zipcodes_df[bet_5_zipcodes_df[\"ZipCode\"] == zipcode][\"value\"]\n",
    "    time_data.plot(label=f'ZipCode {zipcode}')\n",
    "time_data\n",
    "plt.title('Home Value Over Time for Top 5 Zip Codes')\n",
    "plt.xlabel('Time')\n",
    "plt.ylabel('Home Value')\n",
    "plt.legend()\n",
    "plt.show()\n",
    "time_data"
   ]
  },
  {
   "cell_type": "markdown",
   "metadata": {},
   "source": [
    "What are the  10 year ROI and the CAGR for the best 5 zipcodes ?\n",
    "Let's plot the ROI against the CAGR for the best 5 zipcodes."
   ]
  },
  {
   "cell_type": "code",
   "execution_count": 20,
   "metadata": {},
   "outputs": [
    {
     "data": {
      "image/png": "[encoded data removed]",
      "text/plain": [
       "<Figure size 720x432 with 1 Axes>"
      ]
     },
     "metadata": {
      "needs_background": "light"
     },
     "output_type": "display_data"
    }
   ],
   "source": [
    "# Create a figure and axis\n",
    "fig, ax = plt.subplots(figsize=(10, 6))\n",
    "\n",
    "# Plot both ROI and CAGR on the same axes\n",
    "top_5_cagr.plot.bar(x=\"ZipCode\", y=[\"roi\", \"cagr\"], ax=ax)\n",
    "\n",
    "# Set labels and title\n",
    "ax.set_xlabel('ZipCode')\n",
    "ax.set_ylabel('Percentage')\n",
    "ax.set_title('ROI and CAGR for Top 5 Zip Codes')\n",
    "\n",
    "# Show the plot\n",
    "plt.show()"
   ]
  },
  {
   "cell_type": "markdown",
   "metadata": {},
   "source": [
    "The property's ROI is significantly high compared to the CAGR. \n"
   ]
  },
  {
   "cell_type": "markdown",
   "metadata": {},
   "source": [
    "ROI as a measure of percentage increase of a property's value compared to the initial investment value, increases greatly compared to the CAGR, the average annual growth rate over a specified period, which provides a smoothed average growth rate over a specific time period, which may give a more stable representation of the property's overall performance.    "
   ]
  },
  {
   "cell_type": "markdown",
   "metadata": {},
   "source": [
    "#### Distribution of the Average Home Prices   "
   ]
  },
  {
   "cell_type": "code",
   "execution_count": 21,
   "metadata": {},
   "outputs": [
    {
     "data": {
      "text/plain": [
       "<AxesSubplot:ylabel='Density'>"
      ]
     },
     "execution_count": 21,
     "metadata": {},
     "output_type": "execute_result"
    },
    {
     "data": {
      "image/png": "[encoded data removed]",
      "text/plain": [
       "<Figure size 432x288 with 1 Axes>"
      ]
     },
     "metadata": {
      "needs_background": "light"
     },
     "output_type": "display_data"
    }
   ],
   "source": [
    "melted_data.plot(kind=\"kde\", label=f\"The Distribution of Average Home Prices\")"
   ]
  },
  {
   "cell_type": "markdown",
   "metadata": {},
   "source": [
    "This is a bimodal distribution. \n",
    "It  shows two distinct peaks, it suggests that there are two different groups or subpopulations within the ZipCode, each with its own characteristic home values. "
   ]
  },
  {
   "cell_type": "markdown",
   "metadata": {},
   "source": [
    "#### Time Series  Plots\n"
   ]
  },
  {
   "cell_type": "markdown",
   "metadata": {},
   "source": [
    "We can plot the average home prices from April 1996 to APril 2018. "
   ]
  },
  {
   "cell_type": "code",
   "execution_count": 22,
   "metadata": {},
   "outputs": [
    {
     "data": {
      "text/plain": [
       "<AxesSubplot:xlabel='time'>"
      ]
     },
     "execution_count": 22,
     "metadata": {},
     "output_type": "execute_result"
    },
    {
     "data": {
      "image/png": "[encoded data removed]",
      "text/plain": [
       "<Figure size 432x288 with 1 Axes>"
      ]
     },
     "metadata": {
      "needs_background": "light"
     },
     "output_type": "display_data"
    }
   ],
   "source": [
    "melted_data.plot()\n"
   ]
  },
  {
   "cell_type": "markdown",
   "metadata": {},
   "source": [
    "House prices increased from 1996 to 2007, recording a drop from 2007 to 2011. The houses price then start to increase. \n",
    "The sudden decrease in 2007 is as a result of the housing market crisis of 2008 in the USA.  "
   ]
  },
  {
   "cell_type": "markdown",
   "metadata": {},
   "source": [
    "#### Testing for Trends\n",
    "\n",
    "The time series plot above shows signs of a linear trend. \n",
    "Linear trends defy the stationarity assumption assumed by most time series models.            \n",
    "We need to test for the trends using Rolling statistics.   "
   ]
  },
  {
   "cell_type": "markdown",
   "metadata": {},
   "source": [
    "We can plot the moving average and moving variance and see if it varies over time. "
   ]
  },
  {
   "cell_type": "code",
   "execution_count": 23,
   "metadata": {},
   "outputs": [
    {
     "data": {
      "text/plain": [
       "<matplotlib.legend.Legend at 0x7f2768dc3130>"
      ]
     },
     "execution_count": 23,
     "metadata": {},
     "output_type": "execute_result"
    },
    {
     "data": {
      "image/png": "[encoded data removed]",
      "text/plain": [
       "<Figure size 576x432 with 1 Axes>"
      ]
     },
     "metadata": {
      "needs_background": "light"
     },
     "output_type": "display_data"
    }
   ],
   "source": [
    "fig, ax = plt.subplots(figsize=(8,6))\n",
    "rolling_mean = melted_data.rolling(window=12,center=False).mean()\n",
    "rolling_std = melted_data.rolling(window=12,center=False).std()\n",
    "\n",
    "plt.plot(melted_data, color=\"black\", label=\"original\")\n",
    "plt.plot(rolling_mean, color=\"red\", label=\"rolling_mean\")\n",
    "plt.plot(rolling_std, color=\"blue\", label=\"rolling std\")\n",
    "plt.title(\"Original data Vs Rolling Mean Vs Rolling std\")\n",
    "plt.legend()"
   ]
  },
  {
   "cell_type": "markdown",
   "metadata": {},
   "source": [
    "The rolling mean is not stationary. Even thought the rolling std is close to being constant, this data does not look  stationary.     \n",
    "We can carry out further tests to prove if our data is stationary:"
   ]
  },
  {
   "cell_type": "code",
   "execution_count": 24,
   "metadata": {},
   "outputs": [
    {
     "name": "stdout",
     "output_type": "stream",
     "text": [
      "Test Statistic                  -1.574023\n",
      "p-value                          0.496628\n",
      "#Lags Used                      11.000000\n",
      "Number of Observations Used    253.000000\n",
      "Critical Value (1%)             -3.456464\n",
      "Critical Value (5%)             -2.873033\n",
      "Critical Value (10%)            -2.572895\n",
      "dtype: float64\n"
     ]
    }
   ],
   "source": [
    "dftest = adfuller(melted_data)\n",
    "dfoutput = pd.Series(dftest[0:4], index=['Test Statistic', 'p-value', '#Lags Used', 'Number of Observations Used'])\n",
    "dfoutput = pd.Series(dftest[0:4], index=['Test Statistic', 'p-value', '#Lags Used', 'Number of Observations Used'])\n",
    "for key,value in dftest[4].items():\n",
    "    dfoutput['Critical Value (%s)'%key] = value\n",
    "print(dfoutput)"
   ]
  },
  {
   "cell_type": "markdown",
   "metadata": {},
   "source": [
    "The test statistic is less than the critical value, we therefore fail to reject the null hypothesis. \n",
    "The data is not stationary"
   ]
  },
  {
   "cell_type": "markdown",
   "metadata": {},
   "source": [
    "# DATA PROCESSING "
   ]
  },
  {
   "cell_type": "markdown",
   "metadata": {},
   "source": [
    "#### Removing the Trend.\n",
    "\n",
    "\n",
    "We will try and make our time series data as stationary as possible. \n"
   ]
  },
  {
   "cell_type": "code",
   "execution_count": 25,
   "metadata": {},
   "outputs": [
    {
     "data": {
      "text/plain": [
       "[<matplotlib.lines.Line2D at 0x7f2768cf3790>]"
      ]
     },
     "execution_count": 25,
     "metadata": {},
     "output_type": "execute_result"
    },
    {
     "data": {
      "image/png": "[encoded data removed]",
      "text/plain": [
       "<Figure size 432x288 with 1 Axes>"
      ]
     },
     "metadata": {
      "needs_background": "light"
     },
     "output_type": "display_data"
    }
   ],
   "source": [
    "\n",
    "without_ewm = melted_data - melted_data.ewm(halflife=2).mean()\n",
    "diffrenced = without_ewm.diff().dropna()\n",
    " \n",
    "\n",
    "# fig, ax = plt.subplots(figsize=(8,6))\n",
    "rolling_mean = diffrenced.rolling(window=12,center=False).mean()\n",
    "rolling_std = diffrenced.rolling(window=12,center=False).std()\n",
    "\n",
    "plt.plot(melted_data, color=\"black\", label=\"Original\")\n",
    "plt.plot(rolling_mean, color=\"blue\", label=\"Rolling Mean\")\n",
    "plt.plot(rolling_std, color=\"red\", label=\"Rolling std\")\n",
    "\n",
    "\n"
   ]
  },
  {
   "cell_type": "code",
   "execution_count": 26,
   "metadata": {},
   "outputs": [
    {
     "name": "stdout",
     "output_type": "stream",
     "text": [
      "Test Statistic                  -3.103739\n",
      "p-value                          0.026278\n",
      "#Lags Used                      10.000000\n",
      "Number of Observations Used    253.000000\n",
      "Critical Value (1%)             -3.456464\n",
      "Critical Value (5%)             -2.873033\n",
      "Critical Value (10%)            -2.572895\n",
      "dtype: float64\n"
     ]
    }
   ],
   "source": [
    "dftest = adfuller(diffrenced)\n",
    "dfoutput = pd.Series(dftest[0:4], index=['Test Statistic', 'p-value', '#Lags Used', 'Number of Observations Used'])\n",
    "dfoutput = pd.Series(dftest[0:4], index=['Test Statistic', 'p-value', '#Lags Used', 'Number of Observations Used'])\n",
    "for key,value in dftest[4].items():\n",
    "    dfoutput['Critical Value (%s)'%key] = value\n",
    "print(dfoutput)"
   ]
  },
  {
   "cell_type": "markdown",
   "metadata": {},
   "source": [
    "The data is stationary in at 5% significance level. \n"
   ]
  },
  {
   "cell_type": "markdown",
   "metadata": {},
   "source": [
    "### AutoCorrelation Function\n",
    "The autocorrelation function is a function that represents autocorrelation of a time series as a function of the time lag. \n",
    "ACF indicates how similar a value is within a given time series and the previous value. (OR) It measures the degree of the similarity between a given time series and the lagged version of that time series at the various intervals we observed"
   ]
  },
  {
   "cell_type": "code",
   "execution_count": 27,
   "metadata": {},
   "outputs": [
    {
     "data": {
      "image/png": "[encoded data removed]",
      "text/plain": [
       "<Figure size 432x288 with 1 Axes>"
      ]
     },
     "execution_count": 27,
     "metadata": {},
     "output_type": "execute_result"
    },
    {
     "data": {
      "image/png": "[encoded data removed]",
      "text/plain": [
       "<Figure size 432x288 with 1 Axes>"
      ]
     },
     "metadata": {
      "needs_background": "light"
     },
     "output_type": "display_data"
    }
   ],
   "source": [
    "plot_acf(diffrenced)"
   ]
  },
  {
   "cell_type": "markdown",
   "metadata": {},
   "source": [
    "### Partial Autocorrelation Function\n",
    "Partial Autocorrelation Function (or PACF) gives the partial correlation of a time series with its own lagged values, controlling for the values of the time series at all shorter lags (unlike the autocorrelation function, which does not control for other lags)."
   ]
  },
  {
   "cell_type": "code",
   "execution_count": 28,
   "metadata": {},
   "outputs": [
    {
     "data": {
      "image/png": "[encoded data removed]",
      "text/plain": [
       "<Figure size 432x288 with 1 Axes>"
      ]
     },
     "execution_count": 28,
     "metadata": {},
     "output_type": "execute_result"
    },
    {
     "data": {
      "image/png": "[encoded data removed]",
      "text/plain": [
       "<Figure size 432x288 with 1 Axes>"
      ]
     },
     "metadata": {
      "needs_background": "light"
     },
     "output_type": "display_data"
    }
   ],
   "source": [
    "plot_pacf(diffrenced)"
   ]
  },
  {
   "cell_type": "markdown",
   "metadata": {},
   "source": [
    "The high correlation ends at lag 2.          \n",
    "The Gradually decreasing ACF and the instant drop in the PACF suggest that this may be an Autoregressive Model  AR(2), a lag of 2.           \n",
    "Beyond two years, there is no correlation between the time series data. "
   ]
  },
  {
   "cell_type": "markdown",
   "metadata": {},
   "source": [
    "### Train Test Splitting the Data\n",
    "When evaluating a model, it's important to simulate how the model would perform on unseen data.            \n",
    "Train-test splitting helps achieve this by creating a clear distinction between the data used for training and the data used for testing"
   ]
  },
  {
   "cell_type": "code",
   "execution_count": 29,
   "metadata": {},
   "outputs": [
    {
     "name": "stdout",
     "output_type": "stream",
     "text": [
      "Training set length: 211\n",
      "Test set length: 53\n"
     ]
    }
   ],
   "source": [
    "# Calculate the index to split the DataFrame\n",
    "train_size = int(len(diffrenced) * 0.8)\n",
    "\n",
    "# Split the DataFrame into training and test sets\n",
    "train_set = diffrenced.iloc[:train_size]\n",
    "test_set = diffrenced.iloc[train_size:]\n",
    "\n",
    "# Print the lengths of the training and test sets\n",
    "print(f\"Training set length: {len(train_set)}\")\n",
    "print(f\"Test set length: {len(test_set)}\")"
   ]
  },
  {
   "cell_type": "markdown",
   "metadata": {},
   "source": [
    "The validation approach employed here is a train-test split. The dataset (diffrenced) is divided into two subsets: a training set (train_set) and a test set (test_set). The purpose of this division is to train the model on a portion of the data and evaluate its performance on a separate, unseen subset."
   ]
  },
  {
   "cell_type": "markdown",
   "metadata": {},
   "source": [
    "# MODELLING"
   ]
  },
  {
   "cell_type": "markdown",
   "metadata": {},
   "source": [
    "### AUTOREGRESSIVE MODEL"
   ]
  },
  {
   "cell_type": "markdown",
   "metadata": {},
   "source": [
    "This is when a value from a times series is regressed on previous values from the same series. "
   ]
  },
  {
   "cell_type": "code",
   "execution_count": 32,
   "metadata": {},
   "outputs": [
    {
     "name": "stdout",
     "output_type": "stream",
     "text": [
      "                               SARIMAX Results                                \n",
      "==============================================================================\n",
      "Dep. Variable:                  value   No. Observations:                  211\n",
      "Model:                 ARIMA(2, 0, 0)   Log Likelihood               -1250.901\n",
      "Date:                Fri, 19 Jan 2024   AIC                           2509.802\n",
      "Time:                        07:57:28   BIC                           2523.209\n",
      "Sample:                    05-01-1996   HQIC                          2515.221\n",
      "                         - 11-01-2013                                         \n",
      "Covariance Type:                  opg                                         \n",
      "==============================================================================\n",
      "                 coef    std err          z      P>|z|      [0.025      0.975]\n",
      "------------------------------------------------------------------------------\n",
      "const         14.3913     43.316      0.332      0.740     -70.507      99.290\n",
      "ar.L1          1.2482      0.039     32.343      0.000       1.173       1.324\n",
      "ar.L2         -0.3964      0.033    -11.899      0.000      -0.462      -0.331\n",
      "sigma2      8182.1532    455.950     17.945      0.000    7288.507    9075.800\n",
      "===================================================================================\n",
      "Ljung-Box (L1) (Q):                   3.32   Jarque-Bera (JB):              2049.71\n",
      "Prob(Q):                              0.07   Prob(JB):                         0.00\n",
      "Heteroskedasticity (H):              25.85   Skew:                            -0.96\n",
      "Prob(H) (two-sided):                  0.00   Kurtosis:                        18.15\n",
      "===================================================================================\n",
      "\n",
      "Warnings:\n",
      "[1] Covariance matrix calculated using the outer product of gradients (complex-step).\n",
      "102.09206192326724\n",
      "73.32148927087081\n"
     ]
    }
   ],
   "source": [
    "model_arma = ARIMA(train_set, order=(2,0,0))\n",
    "res_arma = model_arma.fit()\n",
    "predicted_values = res_arma.predict(start=test_set.index[0], end=test_set.index[-1])\n",
    "print(res_arma.summary())\n",
    "rmse = sqrt(mean_squared_error(test_set, predicted_values))\n",
    "mae =  mean_absolute_error(test_set, predicted_values)\n",
    "print(rmse)\n",
    "print(mae)\n",
    "\n",
    "# test_set.plot()\n",
    "# predicted_values.plot()"
   ]
  },
  {
   "cell_type": "markdown",
   "metadata": {},
   "source": [
    "This model gives us a RMSE of 102.09206.   and mae of 73.32           \n",
    "This means that on average, the model's predictions are off by approximately 102 units.       \n",
    "In the above model,  the parameters used were infered from the PACF and ACF with the assumption that the data was from an Auto Regressive Model.What if we were wrong?  "
   ]
  },
  {
   "cell_type": "markdown",
   "metadata": {},
   "source": [
    "## Auto Arima"
   ]
  },
  {
   "cell_type": "markdown",
   "metadata": {},
   "source": [
    "AutoARIMA is an automated version of the ARIMA (AutoRegressive Integrated Moving Average) model selection process.             \n",
    "It systematically explores different combinations of ARIMA hyperparameters (p, d, q) to find the model that best fits the given time series data.         "
   ]
  },
  {
   "cell_type": "code",
   "execution_count": 33,
   "metadata": {},
   "outputs": [
    {
     "name": "stdout",
     "output_type": "stream",
     "text": [
      "108.76929692195345\n",
      "82.55236270709504\n"
     ]
    }
   ],
   "source": [
    "arima_model = auto_arima(train_set,  seasonal=False ,suppress_warnings=True, stepwise=True)\n",
    "predicted_values = arima_model.predict(n_periods=len(test_set))\n",
    "rmse = sqrt(mean_squared_error(test_set, predicted_values))\n",
    "mae =  mean_absolute_error(test_set, predicted_values)\n",
    "print(rmse)\n",
    "print(mae)"
   ]
  },
  {
   "cell_type": "markdown",
   "metadata": {},
   "source": [
    "### SARIMAX MODEL"
   ]
  },
  {
   "cell_type": "markdown",
   "metadata": {},
   "source": [
    "SARIMAX (Seasonal AutoRegressive Integrated Moving Average with eXogenous factors) is an extension of the ARIMA model that includes additional features to account for external variables or exogenous factors that might influence the time series"
   ]
  },
  {
   "cell_type": "code",
   "execution_count": 34,
   "metadata": {},
   "outputs": [
    {
     "name": "stdout",
     "output_type": "stream",
     "text": [
      "108.76929692195345\n",
      "80.6140519821126\n"
     ]
    }
   ],
   "source": [
    "\n",
    "\n",
    "# Use auto_arima to find the optimal parameters\n",
    "arima_model = auto_arima(train_set, seasonal=True, m=5, D=1, suppress_warnings=True, stepwise=True)\n",
    "\n",
    "# Extract the optimal order parameters\n",
    "order = arima_model.get_params()['order']\n",
    "seasonal_order = arima_model.get_params()['seasonal_order']\n",
    "\n",
    "# Fit SARIMAX model with optimal parameters\n",
    "sarimax_model = SARIMAX(train_set, order=order, seasonal_order=seasonal_order, enforce_stationarity=False, enforce_invertibility=False)\n",
    "sarimax_fit = sarimax_model.fit()\n",
    "\n",
    "# Forecast future values\n",
    "forecast = sarimax_fit.get_forecast(steps=len(test_set))\n",
    "\n",
    "# Extract predicted values and true values\n",
    "predicted_values = forecast.predicted_mean\n",
    "true_values = test_set\n",
    "\n",
    "# Calculate RMSE\n",
    "rrmse = sqrt(mean_squared_error(test_set, predicted_values))\n",
    "mae =  mean_absolute_error(test_set, predicted_values)\n",
    "print(f\"Root Mean Squared Error (RMSE): {rmse}\")\n",
    "print(f\"Mean Squared Error (MAE): {mae}\")\n"
   ]
  },
  {
   "cell_type": "markdown",
   "metadata": {},
   "source": [
    "The model has a RMSE of 108.76 and a MAE of 80.61.  \n",
    "On average, the model's predictions deviate from the actual values by approximately 108.76 units\n",
    "The absolute difference between the model's predictions and the actual values is approximately 80.61 unit\n",
    "\n",
    "\n",
    "How could our data perform with  advanced machine learning algorithms? We try Facebook Prophet. "
   ]
  },
  {
   "cell_type": "markdown",
   "metadata": {},
   "source": [
    "### FACEBOOK PROPHET"
   ]
  },
  {
   "cell_type": "markdown",
   "metadata": {},
   "source": [
    "\n",
    "Prophet is an open-source forecasting tool developed by Facebook. It is designed to handle time series data and is particularly effective for datasets that exhibit strong seasonal patterns, holidays, and other recurring events. Prophet is capable of producing accurate forecasts while also providing users with an intuitive and user-friendly interface"
   ]
  },
  {
   "cell_type": "markdown",
   "metadata": {},
   "source": [
    "We will first train the model with the differenced data to see how it compares with the previous models."
   ]
  },
  {
   "cell_type": "code",
   "execution_count": 55,
   "metadata": {},
   "outputs": [
    {
     "name": "stderr",
     "output_type": "stream",
     "text": [
      "08:34:42 - cmdstanpy - INFO - Chain [1] start processing\n"
     ]
    },
    {
     "name": "stderr",
     "output_type": "stream",
     "text": [
      "08:34:42 - cmdstanpy - INFO - Chain [1] done processing\n"
     ]
    },
    {
     "name": "stdout",
     "output_type": "stream",
     "text": [
      "Root Mean Squared Error (RMSE): 113.24774761322539\n",
      "Root Mean Squared Error (RMSE): 85.21352883575531\n"
     ]
    }
   ],
   "source": [
    "# import pandas as pd\n",
    "\n",
    "\n",
    "\n",
    "# Use the train set for fitting the model\n",
    "train_data = train_set.reset_index()\n",
    "train_data.columns = ['ds', 'y']\n",
    "\n",
    "# Initialize and fit the Prophet model\n",
    "prophet_model = Prophet()\n",
    "prophet_model.fit(train_data)\n",
    "\n",
    "# Make a dataframe containing future dates for prediction\n",
    "predict_df = prophet_model.make_future_dataframe(periods=len(test_set), freq='M', include_history=False)\n",
    "\n",
    "# Obtain predictions for the observed period\n",
    "predicted_values = prophet_model.predict(predict_df)\n",
    "\n",
    "# Extract true values corresponding to the test set length\n",
    "true_values = test_set.reset_index()\n",
    "\n",
    "# Calculate RMSE\n",
    "rmse = sqrt(mean_squared_error(true_values['value'], predicted_values[\"yhat\"]))\n",
    "mae = mean_absolute_error(true_values['value'], predicted_values[\"yhat\"])\n",
    "\n",
    "print(f\"Root Mean Squared Error (RMSE): {rmse}\")\n",
    "print(f\"Root Mean Squared Error (RMSE): {mae}\")\n"
   ]
  },
  {
   "cell_type": "markdown",
   "metadata": {},
   "source": [
    "The model has an RMSE of 113.247 and an mae of 85.\n",
    "This is not bad compared to the baseline model rmse, we had, 102\n",
    "However,  as noted before,  this is a powerful algorithm that works very well with raw data, handling outliers and automatic seasonality detection. \n",
    "We will therefore go ahead and try the model on raw data"
   ]
  },
  {
   "cell_type": "code",
   "execution_count": null,
   "metadata": {},
   "outputs": [
    {
     "name": "stderr",
     "output_type": "stream",
     "text": [
      "02:32:27 - cmdstanpy - INFO - Chain [1] start processing\n"
     ]
    },
    {
     "name": "stderr",
     "output_type": "stream",
     "text": [
      "02:32:27 - cmdstanpy - INFO - Chain [1] done processing\n"
     ]
    },
    {
     "name": "stdout",
     "output_type": "stream",
     "text": [
      "Root Mean Squared Error (RMSE): 48063.902522154196\n"
     ]
    }
   ],
   "source": [
    "train, test = train_test_split(melted_data, test_size=0.2, shuffle=False)\n",
    "train_data = train.reset_index()\n",
    "train_data.columns = ['ds', 'y']\n",
    "prophet_model = Prophet()\n",
    "prophet_model.fit(train_data)\n",
    "predict_df = prophet_model.make_future_dataframe(periods=len(test), freq='M', include_history=False)\n",
    "predicted_values = prophet_model.predict(predict_df)\n",
    "true_values = test.reset_index()\n",
    "rmse = sqrt(mean_squared_error(true_values['value'], predicted_values[\"yhat\"]))\n",
    "print(f\"Root Mean Squared Error (RMSE): {rmse}\")\n"
   ]
  },
  {
   "cell_type": "markdown",
   "metadata": {},
   "source": [
    "The model has an RMSE of 48063. \n"
   ]
  },
  {
   "cell_type": "markdown",
   "metadata": {},
   "source": [
    "# EVALUATION"
   ]
  },
  {
   "cell_type": "markdown",
   "metadata": {},
   "source": [
    "Root Mean Squared Error (RMSE) is a common metric for evaluating the accuracy of  models. It provides a measure of the average magnitude of the errors between predicted and actual values, and it is particularly sensitive to large errors. Lower RMSE values indicate better model performance, as it means the model's predictions are closer to the actual values.        \n",
    "Mean Absolute Error on the other hand takes the absolute values or the difference between the predicted and the actual figures.  MAE is generally better at handling outliers  and is easily interpretable. \n",
    "\n"
   ]
  },
  {
   "cell_type": "markdown",
   "metadata": {},
   "source": [
    "Our best model  is the baseline model, Autogressive Model.      \n",
    "It has a RMSE of 102.09 and a MAE of 73,32. \n",
    "It performs as follows compared to the other models:\n",
    " "
   ]
  },
  {
   "cell_type": "code",
   "execution_count": 58,
   "metadata": {},
   "outputs": [
    {
     "data": {
      "text/html": [
       "<div>\n",
       "<style scoped>\n",
       "    .dataframe tbody tr th:only-of-type {\n",
       "        vertical-align: middle;\n",
       "    }\n",
       "\n",
       "    .dataframe tbody tr th {\n",
       "        vertical-align: top;\n",
       "    }\n",
       "\n",
       "    .dataframe thead th {\n",
       "        text-align: right;\n",
       "    }\n",
       "</style>\n",
       "<table border=\"1\" class=\"dataframe\">\n",
       "  <thead>\n",
       "    <tr style=\"text-align: right;\">\n",
       "      <th></th>\n",
       "      <th>columns</th>\n",
       "      <th>rmse</th>\n",
       "      <th>mae</th>\n",
       "    </tr>\n",
       "  </thead>\n",
       "  <tbody>\n",
       "    <tr>\n",
       "      <th>0</th>\n",
       "      <td>autoregressive model</td>\n",
       "      <td>102.09</td>\n",
       "      <td>73.30</td>\n",
       "    </tr>\n",
       "    <tr>\n",
       "      <th>1</th>\n",
       "      <td>auto arima</td>\n",
       "      <td>108.77</td>\n",
       "      <td>82.55</td>\n",
       "    </tr>\n",
       "    <tr>\n",
       "      <th>2</th>\n",
       "      <td>sarimax</td>\n",
       "      <td>108.80</td>\n",
       "      <td>80.61</td>\n",
       "    </tr>\n",
       "    <tr>\n",
       "      <th>3</th>\n",
       "      <td>prophet model</td>\n",
       "      <td>113.24</td>\n",
       "      <td>85.21</td>\n",
       "    </tr>\n",
       "  </tbody>\n",
       "</table>\n",
       "</div>"
      ],
      "text/plain": [
       "                columns    rmse    mae\n",
       "0  autoregressive model  102.09  73.30\n",
       "1            auto arima  108.77  82.55\n",
       "2               sarimax  108.80  80.61\n",
       "3         prophet model  113.24  85.21"
      ]
     },
     "execution_count": 58,
     "metadata": {},
     "output_type": "execute_result"
    }
   ],
   "source": [
    "pd.DataFrame({\n",
    "    \"columns\" : [\"autoregressive model\", \"auto arima\", \"sarimax\", \"prophet model\"], \n",
    "    \"rmse\" : [102.09, 108.77, 108.8, 113.24],\n",
    "    \"mae\": [73.3, 82.55, 80.61, 85.21] \n",
    "})"
   ]
  },
  {
   "cell_type": "code",
   "execution_count": null,
   "metadata": {},
   "outputs": [],
   "source": []
  }
 ],
 "metadata": {
  "kernelspec": {
   "display_name": "learn-env",
   "language": "python",
   "name": "python3"
  },
  "language_info": {
   "codemirror_mode": {
    "name": "ipython",
    "version": 3
   },
   "file_extension": ".py",
   "mimetype": "text/x-python",
   "name": "python",
   "nbconvert_exporter": "python",
   "pygments_lexer": "ipython3",
   "version": "3.8.5"
  }
 },
 "nbformat": 4,
 "nbformat_minor": 2
}
